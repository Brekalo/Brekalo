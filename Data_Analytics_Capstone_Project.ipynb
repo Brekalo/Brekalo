{
  "metadata": {
    "kernelspec": {
      "name": "ir",
      "display_name": "R",
      "language": "R"
    },
    "language_info": {
      "name": "R",
      "codemirror_mode": "r",
      "pygments_lexer": "r",
      "mimetype": "text/x-r-source",
      "file_extension": ".r",
      "version": "4.0.5"
    },
    "kaggle": {
      "accelerator": "none",
      "dataSources": [
        {
          "sourceId": 7755992,
          "sourceType": "datasetVersion",
          "datasetId": 4535258
        }
      ],
      "dockerImageVersionId": 30618,
      "isInternetEnabled": true,
      "language": "r",
      "sourceType": "notebook",
      "isGpuEnabled": false
    },
    "colab": {
      "name": "Data Analytics Capstone Project",
      "provenance": [],
      "include_colab_link": true
    }
  },
  "nbformat_minor": 0,
  "nbformat": 4,
  "cells": [
    {
      "cell_type": "markdown",
      "metadata": {
        "id": "view-in-github",
        "colab_type": "text"
      },
      "source": [
        "<a href=\"https://colab.research.google.com/github/Brekalo/Brekalo/blob/main/Data_Analytics_Capstone_Project.ipynb\" target=\"_parent\"><img src=\"https://colab.research.google.com/assets/colab-badge.svg\" alt=\"Open In Colab\"/></a>"
      ]
    },
    {
      "source": [
        "\n",
        "# IMPORTANT: RUN THIS CELL IN ORDER TO IMPORT YOUR KAGGLE DATA SOURCES\n",
        "# TO THE CORRECT LOCATION (/kaggle/input) IN YOUR NOTEBOOK,\n",
        "# THEN FEEL FREE TO DELETE THIS CELL.\n",
        "# NOTE: THIS NOTEBOOK ENVIRONMENT DIFFERS FROM KAGGLE'S R\n",
        "# ENVIRONMENT SO THERE MAY BE MISSING LIBRARIES USED BY YOUR\n",
        "# NOTEBOOK.\n",
        "\n",
        "DATA_SOURCE_MAPPING = 'cyclistic-dataset:https%3A%2F%2Fstorage.googleapis.com%2Fkaggle-data-sets%2F4535258%2F7755992%2Fbundle%2Farchive.zip%3FX-Goog-Algorithm%3DGOOG4-RSA-SHA256%26X-Goog-Credential%3Dgcp-kaggle-com%2540kaggle-161607.iam.gserviceaccount.com%252F20240305%252Fauto%252Fstorage%252Fgoog4_request%26X-Goog-Date%3D20240305T123911Z%26X-Goog-Expires%3D259200%26X-Goog-SignedHeaders%3Dhost%26X-Goog-Signature%3D02b5238c6e0c7ef722c01d1f44a25d73ded95ad35df5ec6080c23afc71dde6cf3ed664b686c483167481bfb1363740875acce1342f1a40d64a3be3ec3a0a66e1f1d804df45a47f705d5a369e0505281076a50659334253c98b148905b14c5a292861c6686fd532baf387cc64ffbe7e0c112b0c373b9151d553812c3094abdf11f895d48b8ee78b2d6ea59a2431ae762dc31572267201114ed9aeac3093237cf1e52ae9c37060c1fd95df04923f86d92a10e2043f3d39a8ccbdd6de6f86f37cb0391a59db99bbcbe411a7b379471443f9b4231edde011c74e9d734ace27015fca6f4affbed078794c04a407128ad17993bf5042995582d53c7527bcb6b72e7d2c'\n",
        "\n",
        "KAGGLE_INPUT_PATH = '/kaggle/input'\n",
        "KAGGLE_WORKING_PATH = '/kaggle/working'\n",
        "\n",
        "system(paste0('sudo umount ', '/kaggle/input'))\n",
        "system(paste0('sudo rmdir ', '/kaggle/input'))\n",
        "system(paste0('sudo mkdir -p -- ', KAGGLE_INPUT_PATH), intern=TRUE)\n",
        "system(paste0('sudo chmod 777 ', KAGGLE_INPUT_PATH), intern=TRUE)\n",
        "system(\n",
        "  paste0('sudo ln -sfn ', KAGGLE_INPUT_PATH,' ',file.path('..', 'input')),\n",
        "  intern=TRUE)\n",
        "\n",
        "system(paste0('sudo mkdir -p -- ', KAGGLE_WORKING_PATH), intern=TRUE)\n",
        "system(paste0('sudo chmod 777 ', KAGGLE_WORKING_PATH), intern=TRUE)\n",
        "system(\n",
        "  paste0('sudo ln -sfn ', KAGGLE_WORKING_PATH, ' ', file.path('..', 'working')),\n",
        "  intern=TRUE)\n",
        "\n",
        "data_source_mappings = strsplit(DATA_SOURCE_MAPPING, ',')[[1]]\n",
        "for (data_source_mapping in data_source_mappings) {\n",
        "    path_and_url = strsplit(data_source_mapping, ':')\n",
        "    directory = path_and_url[[1]][1]\n",
        "    download_url = URLdecode(path_and_url[[1]][2])\n",
        "    filename = sub(\"\\\\?.+\", \"\", download_url)\n",
        "    destination_path = file.path(KAGGLE_INPUT_PATH, directory)\n",
        "    print(paste0('Downloading and uncompressing: ', directory))\n",
        "    if (endsWith(filename, '.zip')){\n",
        "      temp = tempfile(fileext = '.zip')\n",
        "      download.file(download_url, temp)\n",
        "      unzip(temp, overwrite = TRUE, exdir = destination_path)\n",
        "      unlink(temp)\n",
        "    }\n",
        "    else{\n",
        "      temp = tempfile(fileext = '.tar')\n",
        "      download.file(download_url, temp)\n",
        "      untar(temp, exdir = destination_path)\n",
        "      unlink(temp)\n",
        "    }\n",
        "    print(paste0('Downloaded and uncompressed: ', directory))\n",
        "}\n",
        "\n",
        "print(paste0('Data source import complete'))\n"
      ],
      "metadata": {
        "id": "Yf731AOToApJ"
      },
      "cell_type": "code",
      "outputs": [],
      "execution_count": null
    },
    {
      "cell_type": "markdown",
      "source": [
        "<h1 style=\"color: #272f33;\"><strong>Data Analytics Capstone Project: Cyclistic Bike Sharing Analysis</strong></h1>\n",
        "<font color=\"#adbac0\">Case Study: How Does a Bike-Share Navigate Speedy Success?</font><br>\n",
        "<font style=\"color: #272f33;\">by Vesna Marija Brekalo</font><br>\n",
        "<i><font color=\"#adbac0\">February, 27 2024</font></i>\n",
        "\n",
        "# <font color=\"#adbac0\"><strong>FOREWORD</strong></font>\n",
        "I completed a case study on **Cyclistic** bike-share for my Google Data Analytics certification, inspired by my passion for cycling. This project, my first in analytics, explores the differences between casual and member riders following Google's framework: **Ask**, **Prepare**, **Process**, **Analyze**, **Share**, **Act**. Check out [my data visualizations here](https://www.linkedin.com/in/vesna-marija-brekalo).\n",
        "\n",
        "> **Table of Contents:**<br>\n",
        "<br>\n",
        "> **INTRODUCTION** <br>\n",
        "    - Project Overview and Context <br>\n",
        "> **ASK** <br>\n",
        "    - Business Goals and Objectives <br>\n",
        "    - Defining the Analytical Task <br>\n",
        "    - Identifying Key Stakeholders <br>\n",
        "> **PREPARE** <br>\n",
        "    - Data Sourcing and Initial Exploration <br>\n",
        "> **PROCESS** <br>\n",
        "    - Data Cleaning and Preprocessin <br>\n",
        "> **ANALYZE & SHARE** <br>\n",
        "    - Ride Volume Analysis <br>\n",
        "    - Average Ride Duration Insights <br>\n",
        "    - Bike Type Preferences <br>\n",
        "    - Temporal Usage Patterns <br>\n",
        "    - Station Popularity Metrics <br>\n",
        "> **ACT** <br>\n",
        "    - Strategic Recommendations for Action\n",
        "\n",
        "# <font color=\"#adbac0\"><strong>INTRODUCTION</strong></font>\n",
        "**Cyclistic**, founded in 2016, operates a vast fleet of over 16,500 bicycles covering 190 square miles in Chicago. The bikes, strategically located across 800 stations in the city, cater to urban riders with diverse heights and abilities, boasting a design focused on comfort and stability. Users can unlock bikes at any station and return them to any other station at their convenience.\n",
        "\n",
        "Initially, Cyclistic's marketing aimed at raising general awareness and appealing to a diverse audience with various pricing plans: single-ride passes, full-day passes, and annual memberships. Casual riders are those opting for short-term passes, whereas annual memberships are purchased by Cyclistic members.\n",
        "\n",
        "Financial analysis indicates annual members generate more profit than casual riders. To capitalize on this, Moreno, Cyclistic's director of marketing, prioritizes converting casual riders into members rather than attracting new customers. The strategy revolves around understanding the differences between these groups, why casual riders might switch to memberships, and the role of digital media in marketing.\n",
        "\n",
        "Maximizing annual memberships is key to Cyclistic's future success, prompting Moreno's team to analyze historical trip data to uncover trends. As their recommendations necessitate executive approval, they must provide compelling data insights and professional visualizations."
      ],
      "metadata": {
        "id": "GRZ5mXQPoApv"
      }
    },
    {
      "cell_type": "markdown",
      "source": [
        "# <font color=\"#adbac0\"><strong>ASK</strong></font>\n",
        "\n",
        "**Business Objective:**<br>\n",
        "Develop effective marketing strategies to convert casual riders into annual members. <br>\n",
        "\n",
        "To **achieve** this **objective**, the future marketing program will address the following three pivotal **questions**:\n",
        "> 1. How do annual members and casual riders use Cyclistic bikes differently?\n",
        "> 2. Why would casual riders buy Cyclistic annual memberships?\n",
        "> 3. How can Cyclistic leverage digital media to encourage casual riders to transition into annual members?\n",
        "\n",
        "**Key Stakeholders:**\n",
        "- Lily Moreno: Director of the marketing team and my supervisor.\n",
        "- Cyclistic executive team."
      ],
      "metadata": {
        "id": "jwSyeszQoApy"
      }
    },
    {
      "cell_type": "markdown",
      "source": [
        "# <font color=\"#adbac0\"><strong>PREPARE</strong></font>\n",
        "#### **Data Collection and Sources:**\n",
        "For this case study, we utilize data from Divvy, a real bike share company operating in Chicago, as a proxy for the fictional company Cyclistic.<br>\n",
        "These datasets are publicly available through Motivate International Inc. [under a specified license](https://divvybikes.com/data-license-agreement) and can be accessed for [download here](https://divvy-tripdata.s3.amazonaws.com/index.html).<br>\n",
        "The data is released monthly and is characterized by being anonymized, reliable, original, comprehensive, up-to-date, and properly cited.\n",
        "\n",
        "In this study, we have analyzed historical travel data from 12 separate CSV files, each corresponding to a month within the period from December 2022 to November 2023. The collective dataset encompasses a total of 5,676,710 recorded trips.\n",
        "\n",
        "The dataset is structured into 13 distinct columns, or variables, which include:\n",
        "\n",
        "| No. | Description                            | Column Name      | Type        |\n",
        "|----:|:----------------------------------------|:------------------|:-------------|\n",
        "|   1 | Unique identifier for each trip:   | `ride_id`        | String        |\n",
        "|   2 | Type of bicycle:                     | `rideable_type`  | String        |\n",
        "|   3 | Start timestamp of the ride:              | `started_at`     | Date & Time |\n",
        "|   4 | End timestamp of the ride:             | `ended_at`       | Date & Time |\n",
        "|   5 | Name of the starting station:     | `start_station_name` | String   |\n",
        "|   6 | Identifier for the starting station:            | `start_station_id`   | String   |\n",
        "|   7 | Name of the ending station:        | `end_station_name`   | String   |\n",
        "|   8 | Identifier for the ending station:            | `end_station_id`     | String   |\n",
        "|   9 | The latitude of the starting station: | `start_lat`          | Numeric|\n",
        "|  10 | The longitude of starting station:    | `start_lng`          | Numeric|\n",
        "|  11 | The end station's latitude:           | `end_lat`            | Numeric|\n",
        "|  12 | The longitude of the end station:     | `end_lng`            | Numeric|\n",
        "|  13 | Indicates whether the rider is a casual or a member:         | `member_casual`      | String   |\n",
        "\n",
        "While the dataset did not come with an accompanying metadata file, the variables are intuitively named and can be understood without additional context.\n",
        "\n",
        "The data categorizes riders into two main groups:\n",
        "- Casual riders, who typically utilize single rides or day passes\n",
        "- Cyclistic members, who are characterized by their annual memberships\n",
        "\n",
        "This categorization is pivotal for understanding different usage patterns and guiding business strategies.\n",
        "\n",
        "### Divvy [Pricing](https://divvybikes.com/pricing) Summary:\n",
        "- **Single Ride**: \\\\$3.30 for up to 30 minutes, with a \\\\$0.15 per minute overage charge.\n",
        "- **Daily Pass**: \\\\$15 for 24-hour access with unlimited classic bike rides up to 3 hours each; overage cost is \\\\$0.15 per minute for rides over 3 hours.\n",
        "- **E-Bike Single Ride**: \\\\$3.30 with an additional \\\\$0.20 per minute while in use.\n",
        "- **Annual Membership**: \\\\$9 monthly for unlimited 45-minute rides; rides exceeding this duration incur a \\\\$0.16 per minute overage fee.\n",
        "- **Lost/Stolen Bike Fee**: A penalty of \\\\$1200.\n",
        "- **Cycling for Everyone (C4E)**: A program for eligible residents offering a \\\\$5 annual membership with specific rates and credits for e-bike use.\n",
        "- **Miscellaneous Fees**: E-bikes can be parked at public racks within the service area for \\\\$1, with a \\\\$25 fine for parking violations or if parked outside the service area.\n",
        "\n",
        "### Tools Utilized for Defining Objectives and Analysis:\n",
        "- Excel: Employed for the initial data cleaning and review process.\n",
        "- RStudio Desktop: Used for in-depth data analysis and scripting in R.\n",
        "- Tableau: Leveraged for creating interactive and informative data visualizations.\n",
        "\n",
        "The analysis commenced with the meticulous cleaning and scrutiny of the dataset in Excel. Subsequently, RStudio Desktop was utilized to conduct detailed data analysis through R scripting. For the visual representation of the insights, Tableau served as the primary tool, enabling the creation of clear and engaging visualizations."
      ],
      "metadata": {
        "id": "Vzg_28pzoApz"
      }
    },
    {
      "cell_type": "markdown",
      "source": [
        "# <font color=\"#adbac0\"><strong>PROCESS</strong></font>\n",
        "\n",
        "The data preparation phase was crucial for ensuring the integrity of the subsequent analysis. This phase involved:\n",
        "1. **Data Cleaning**: Errors, duplicates, blanks, null values, and outliers were meticulously removed to maintain data quality.\n",
        "2. **Feature Engineering**: New columns were generated for in-depth temporal analysis. These included `starting_at_date`, `starting_at_time`, `ending_at_date`, and `ending_at_time`, extracted from the `started_at` and `ended_at` timestamps. The `ride_length` was recorded in both minutes and seconds, and `day_of_week` was cataloged to map the ride's start day.\n",
        "3. **Handling Missing Information**: Blanks in `start_station_name` and `end_station_name` were standardized to 'UNKNOWN START STATION NAME' and 'UNKNOWN END STATION NAME', accounting for **2.425%** of the dataset.\n",
        "4. **Standardizing Station Names**: Anomalies such as additional characters in station names were present in **1.7339%** of rows. These were rectified by removing non-essential characters like asterisks and designations (e.g., '(Temp)', 'Test', city or public rack indicators).\n",
        "5. **Data Validation**: Rides with illogical durations were excluded, along with those under 2 minutes, which constituted **3.5085%** of the total data.\n",
        "6. **Reconciling Unknown Stations**: The dataset contained **1791716** cells with 'UNKNOWN' station identifiers, equivalent to **2.4275%** of the data. Utilizing latitude and longitude details, a `list_unique_stations.csv` document facilitated the accurate attribution of station names.\n",
        "\n",
        "The comprehensive analysis revealed that **5.2533%** of the dataset was incomplete, with **3.5113%** necessitating removal to ensure analytical accuracy.\n",
        "\n",
        "## Setting up the programming environment\n",
        "\n",
        "Installing essential packages and libraries for data cleaning and analysis included installing the `tidyverse` package and the `data.table` package, and subsequently, their libraries were also loaded *(details given below)*.\n",
        "\n",
        "| Load Packages | Description |\n",
        "|:-----------------|:------------------------------------------------------------------------|\n",
        "| `library(tidyverse)`  | A collection of R packages that provide versatile tools for data manipulation, visualization, and analysis. |\n",
        "| `library(dplyr)`      | Specialized in data manipulation, providing a set of functions for efficiently modifying and analyzing data frames. |\n",
        "| `library(tidyr)`      | Focuses on transforming data to a tidy format, making it more suitable for analysis. |\n",
        "| `library(readr)`      | Optimized for reading data from various file types, facilitating easy data import. |\n",
        "| `library(tibble)`     | Enhances data frames, offering a user-friendly approach to data frame creation and manipulation. |\n",
        "| `library(lubridate)`  | Simplifies working with dates and times, providing functions that make it easier to parse, manipulate, and do calculations with date-time objects. |\n",
        "| `library(hms)`        | Designed for easy handling and formatting of time data, complementing the `lubridate` package.  |\n",
        "| `library(purrr)`    | Enhances functional programming in R, offering tools for iterating over data and simplifying complex operations with lists and vectors. It is particularly useful for executing the same function across multiple elements or datasets and working with list-columns in data frames. |\n",
        "| `library(data.table)` | Offers high-performance data manipulation and analysis, suitable for large datasets. Also, it's highly efficient for exporting data frames to various formats. |\n",
        "| `library(ggplot2)`     | The `ggplot2` library is a powerful and versatile package for creating data visualizations. |\n",
        "| `library(scales)` | This library is for formatting the labels. |\n",
        "| `library(sf)` | The package provides a wide range of functions for analyzing, visualizing, exploring, and working with spatial data. |"
      ],
      "metadata": {
        "id": "6QbvJFnxoApz"
      }
    },
    {
      "cell_type": "code",
      "source": [
        "# This R environment comes with many helpful analytics packages installed\n",
        "# It is defined by the kaggle/rstats Docker image: https://github.com/kaggle/docker-rstats\n",
        "# For example, here's a helpful package to load\n",
        "\n",
        "library(tidyverse) # metapackage of all tidyverse packages\n",
        "\n",
        "# Input data files are available in the read-only \"../input/\" directory\n",
        "# For example, running this (by clicking run or pressing Shift+Enter) will list all files under the input directory\n",
        "\n",
        "list.files(path = \"../input\")\n",
        "\n",
        "# You can write up to 20GB to the current directory (/kaggle/working/) that gets preserved as output when you create a version using \"Save & Run All\"\n",
        "# You can also write temporary files to /kaggle/temp/, but they won't be saved outside of the current session"
      ],
      "metadata": {
        "_uuid": "051d70d956493feee0c6d64651c6a088724dca2a",
        "_execution_state": "idle",
        "id": "Sbywwh74oAp0"
      },
      "execution_count": null,
      "outputs": []
    },
    {
      "cell_type": "code",
      "source": [
        "library(dplyr)\n",
        "library(tidyr)\n",
        "library(readr)\n",
        "library(tibble)\n",
        "library(lubridate)\n",
        "library(hms)\n",
        "library(purrr)\n",
        "library(data.table)\n",
        "library(ggplot2)\n",
        "library(scales)\n",
        "library(sf)"
      ],
      "metadata": {
        "execution": {
          "iopub.status.busy": "2024-03-04T07:57:00.370737Z",
          "iopub.execute_input": "2024-03-04T07:57:00.372572Z",
          "iopub.status.idle": "2024-03-04T07:57:01.578816Z"
        },
        "trusted": true,
        "id": "_p9DDSnSoAp0"
      },
      "execution_count": null,
      "outputs": []
    },
    {
      "cell_type": "markdown",
      "source": [
        "## Unified Consolidation of 12 Monthly Spreadsheets into a Single File, all_rides_df_clean.csv\n",
        "Utilizing RStudio, I have successfully merged twelve cleansed CSV files ('YYYY_MM_df_update_clean.csv') into one comprehensive dataframe file, all_rides_df_clean.csv.\n",
        "\n",
        "**An essential step in data analysis is ensuring the data's cleanliness and readiness for further analysis. The following procedures are applied to the `all_rides_df_clean.csv` data frame, each accompanied by a screenshot for visual reference:**\n",
        "1. **Overview of `all_rides_df_clean.csv`**:\n",
        "- Obtain an overview of the data frame, including the total number of rows, columns, and cells."
      ],
      "metadata": {
        "id": "KvdfwYDToAp1"
      }
    },
    {
      "cell_type": "code",
      "source": [
        "all_rides_df_clean <- read.csv(\"/kaggle/input/cyclistic-dataset/all_rides_df_clean.csv\")\n",
        "nrow(all_rides_df_clean) # Number of rows\n",
        "ncol(all_rides_df_clean) # Number of columns\n",
        "nrow(all_rides_df_clean) * ncol(all_rides_df_clean) # Number of cells"
      ],
      "metadata": {
        "execution": {
          "iopub.status.busy": "2024-03-04T08:00:35.73495Z",
          "iopub.execute_input": "2024-03-04T08:00:35.762166Z",
          "iopub.status.idle": "2024-03-04T08:01:54.957583Z"
        },
        "trusted": true,
        "id": "Qdt-_VmboAp1"
      },
      "execution_count": null,
      "outputs": []
    },
    {
      "cell_type": "markdown",
      "source": [
        "2. **Previewing Data**:\n",
        "- Use the `head()` function to display the first few rows of the data frame, providing an initial glimpse into the dataset."
      ],
      "metadata": {
        "id": "A_FGzfhroAp1"
      }
    },
    {
      "cell_type": "code",
      "source": [
        "head(all_rides_df_clean) # View the first few lines"
      ],
      "metadata": {
        "execution": {
          "iopub.status.busy": "2024-03-04T08:02:56.602926Z",
          "iopub.execute_input": "2024-03-04T08:02:56.604236Z",
          "iopub.status.idle": "2024-03-04T08:02:56.641597Z"
        },
        "trusted": true,
        "id": "3l9zTQAsoAp2"
      },
      "execution_count": null,
      "outputs": []
    },
    {
      "cell_type": "markdown",
      "source": [
        "3. **Understanding Data Structure**:\n",
        "- Examine the data structure and its characteristics, including data types of each column."
      ],
      "metadata": {
        "id": "KEwb-VtQoAp2"
      }
    },
    {
      "cell_type": "code",
      "source": [
        "glimpse(all_rides_df_clean) # Data verification"
      ],
      "metadata": {
        "execution": {
          "iopub.status.busy": "2024-03-04T08:03:42.282465Z",
          "iopub.execute_input": "2024-03-04T08:03:42.28378Z",
          "iopub.status.idle": "2024-03-04T08:03:42.315273Z"
        },
        "trusted": true,
        "id": "MFAEo51toAp2"
      },
      "execution_count": null,
      "outputs": []
    },
    {
      "cell_type": "markdown",
      "source": [
        "4. **Identifying Outliers**:\n",
        "- Apply the `summary()` function to summarize each column, aiding in the identification of unusual or outlier values."
      ],
      "metadata": {
        "id": "YtGtUIl1oAp2"
      }
    },
    {
      "cell_type": "code",
      "source": [
        "summary(all_rides_df_clean) # Overview of statistics"
      ],
      "metadata": {
        "execution": {
          "iopub.status.busy": "2024-03-04T08:04:04.184971Z",
          "iopub.execute_input": "2024-03-04T08:04:04.186414Z",
          "iopub.status.idle": "2024-03-04T08:04:06.452018Z"
        },
        "trusted": true,
        "id": "gsCzBd0GoAp2"
      },
      "execution_count": null,
      "outputs": []
    },
    {
      "cell_type": "markdown",
      "source": [
        "5. **Missing Values in Data Frame**:\n",
        "- Check the entire data frame for any missing values to ensure data completeness."
      ],
      "metadata": {
        "id": "KMbY3GlCoAp2"
      }
    },
    {
      "cell_type": "code",
      "source": [
        "# Checking for missing values for the entire dataframe\n",
        "any(is.na(all_rides_df_clean))"
      ],
      "metadata": {
        "execution": {
          "iopub.status.busy": "2024-03-04T08:04:54.064763Z",
          "iopub.execute_input": "2024-03-04T08:04:54.066081Z",
          "iopub.status.idle": "2024-03-04T08:04:56.083026Z"
        },
        "trusted": true,
        "id": "oqjTjK6EoAp2"
      },
      "execution_count": null,
      "outputs": []
    },
    {
      "cell_type": "markdown",
      "source": [
        "6. **Column-wise Missing Values**:\n",
        "- Investigate missing values by each column to pinpoint areas requiring data imputation or removal.\n",
        "- Despite missing some values in columns such as end_station_id and start_station_id, these columns, while included, are deemed of lesser importance and not critical to this analysis, and therefore, have been retained in the dataframe."
      ],
      "metadata": {
        "id": "r585eNJroAp3"
      }
    },
    {
      "cell_type": "code",
      "source": [
        "library(naniar)\n",
        "print(miss_var_summary(all_rides_df_clean), n = 25)"
      ],
      "metadata": {
        "execution": {
          "iopub.status.busy": "2024-03-04T08:06:01.389731Z",
          "iopub.execute_input": "2024-03-04T08:06:01.391458Z",
          "iopub.status.idle": "2024-03-04T08:06:03.208403Z"
        },
        "trusted": true,
        "id": "XrKaK6nyoAp3"
      },
      "execution_count": null,
      "outputs": []
    },
    {
      "cell_type": "markdown",
      "source": [
        "7. **Duplicate Rows Check**:\n",
        "- Verify the presence of duplicate rows within the data frame to maintain data integrity."
      ],
      "metadata": {
        "id": "agRPISaNoAp3"
      }
    },
    {
      "cell_type": "code",
      "source": [
        "duplicated(all_rides_df_clean)"
      ],
      "metadata": {
        "id": "CUIRiTwfoAp3"
      },
      "execution_count": null,
      "outputs": []
    },
    {
      "cell_type": "markdown",
      "source": [
        "# <font color=\"#adbac0\"><strong>ANALYZE & SHARE<strong></font>\n",
        "\n",
        "**Guiding Questions for Enhanced Data Analysis:**\n",
        "\n",
        "At this phase of our study, we seek to explore the dynamics of bike usage among Cyclistic's annual members versus casual riders. Our analysis will dissect the following key dimensions to uncover distinct patterns of utilization:\n",
        "- **Ride Volume**: Assessing the total number of rides undertaken by each group.\n",
        "- **Average Ride Duration**: Calculating the typical length of rides to identify usage intensity.\n",
        "- **Bike Type Preferences**: Evaluating the preference for different types of bikes between the two groups.\n",
        "- **Usage Patterns Over Time**: Analyzing how usage varies across different times of day, days of the week, months, and seasons.\n",
        "- **Popular Stations**: Identifying the most frequented stations to understand spatial preferences.\n",
        "\n",
        "Through this detailed analysis, we aim to provide insights into the differing behaviors and preferences between annual members and casual riders, contributing to targeted strategy development for Cyclistic.\n",
        "\n",
        "## Counts and Percentages of Bike Types Used"
      ],
      "metadata": {
        "id": "IWZXR1mRoAp3"
      }
    },
    {
      "cell_type": "code",
      "source": [
        "# Calculate the number of rides by bike type\n",
        "ride_counts_by_rideable_type <- table(all_rides_df_clean$rideable_type)\n",
        "\n",
        "# Calculate the total number of rides\n",
        "total_rides <- sum(ride_counts_by_rideable_type)\n",
        "\n",
        "# Calculate the percentage share of each bike type\n",
        "ride_percentages_rideable_type <- (ride_counts_by_rideable_type / total_rides) * 100\n",
        "\n",
        "# Create a data frame to display the results\n",
        "rideable_type_usage <- data.frame(\n",
        "  Rideable_Type = names(ride_counts_by_rideable_type),\n",
        "  Ride_Count = as.vector(ride_counts_by_rideable_type),\n",
        "  Percentage = as.vector(ride_percentages_rideable_type)\n",
        ")\n",
        "\n",
        "# Display the results\n",
        "print(rideable_type_usage)"
      ],
      "metadata": {
        "execution": {
          "iopub.status.busy": "2024-03-04T08:07:56.532361Z",
          "iopub.execute_input": "2024-03-04T08:07:56.533921Z",
          "iopub.status.idle": "2024-03-04T08:07:56.800103Z"
        },
        "trusted": true,
        "id": "Pk2Y9yeIoAp3"
      },
      "execution_count": null,
      "outputs": []
    },
    {
      "cell_type": "markdown",
      "source": [
        "The number of rides on electric bikes is the highest among the categories, with electric bikes accounting for 2,793,959 rides. Classic bikes are slightly less popular with 2,605,010 rides, while docked bikes have been used significantly less, with only 79,284 rides. This distribution highlights the growing trend towards electric and classic bikes for urban mobility solutions, possibly due to their convenience, ease of access, and efficiency compared to the more stationary docked bikes."
      ],
      "metadata": {
        "id": "Qmioms0CoAp3"
      }
    },
    {
      "cell_type": "code",
      "source": [
        "library(ggplot2)\n",
        "\n",
        "# Calculate the number of rides by bike type\n",
        "ride_counts_by_rideable_type <- table(all_rides_df_clean$rideable_type)\n",
        "\n",
        "# Calculate the total number of rides\n",
        "total_rides <- sum(ride_counts_by_rideable_type)\n",
        "\n",
        "# Calculate the percentage share of each bike type\n",
        "ride_percentages_rideable_type <- (ride_counts_by_rideable_type / total_rides) * 100\n",
        "\n",
        "# Create a data frame to display the results\n",
        "rideable_type_usage <- data.frame(\n",
        "  Rideable_Type = names(ride_counts_by_rideable_type),\n",
        "  Ride_Count = as.vector(ride_counts_by_rideable_type),\n",
        "  Percentage = as.vector(ride_percentages_rideable_type)\n",
        ")\n",
        "\n",
        "# Convert factor levels to character for labeling\n",
        "rideable_type_usage$Rideable_Type <- as.character(rideable_type_usage$Rideable_Type)\n",
        "\n",
        "# Create the pie chart\n",
        "pie_chart_percentages_of_bike_types_used <- ggplot(\n",
        "    rideable_type_usage, aes(x = \"\", y = Percentage, fill = Rideable_Type)) +\n",
        "  geom_bar(width = 1, stat = \"identity\") +\n",
        "  coord_polar(\"y\", start = 0) +\n",
        "  theme_void() +\n",
        "  scale_fill_manual(\n",
        "    values = c(\"classic_bike\" = \"#6cc84e\",\n",
        "               \"docked_bike\" = \"#5b79d5\",\n",
        "               \"electric_bike\" = \"#ff468b\"),\n",
        "    name = \"Bike Types\"\n",
        "  ) +\n",
        "  geom_text(\n",
        "    aes(label = paste0(round(Percentage, 2), \"%\")),\n",
        "    position = position_stack(vjust = 0.5)\n",
        "  ) +\n",
        "  ggtitle(\"Percentage distribution of bike rides\") +\n",
        "  labs(subtitle = \"The period from 2022-12-01 to 2023-11-30\") +\n",
        "  theme(\n",
        "    legend.position = \"right\",\n",
        "    plot.title = element_text(size = 15, face = \"bold\"),\n",
        "    plot.subtitle = element_text(size = 9)\n",
        "  )\n",
        "# Display the pie chart\n",
        "pie_chart_percentages_of_bike_types_used"
      ],
      "metadata": {
        "execution": {
          "iopub.status.busy": "2024-03-04T08:10:07.060081Z",
          "iopub.execute_input": "2024-03-04T08:10:07.061436Z",
          "iopub.status.idle": "2024-03-04T08:10:07.969369Z"
        },
        "trusted": true,
        "id": "_y6dcybQoAp3"
      },
      "execution_count": null,
      "outputs": []
    },
    {
      "cell_type": "markdown",
      "source": [
        "Using Cyclistic's historical data on the distribution of bike ride types, the share of electric bikes, classic bikes, and docked bikes is divided into 51.00% for electric bikes, 47.55% for classic bikes, and 1.45% for docked bikes. This data indicates that electric bikes are marginally more popular than classic bikes, with over half of the riders opting for electric bikes.\n",
        "\n",
        "## Counts and Percentage Distribution of Member and Casual Rides"
      ],
      "metadata": {
        "id": "-5htTxpOoAp4"
      }
    },
    {
      "cell_type": "code",
      "source": [
        "# Count rides for 'Member' and 'Casual' in the 'member_casual' column\n",
        "count_member_casual <- table(all_rides_df_clean$member_casual)\n",
        "\n",
        "# Display counts of 'Member' and 'Casual'\n",
        "print(\"Counts of Member and Casual Rides:\")\n",
        "print(count_member_casual)\n",
        "\n",
        "# Calculate the percentages for 'Member' and 'Casual'\n",
        "percentage_member_casual <- prop.table(count_member_casual) * 100\n",
        "\n",
        "# Display percentages of 'Member' and 'Casual'\n",
        "print(\"Percentage of Member and Casual Rides:\")\n",
        "print(percentage_member_casual)"
      ],
      "metadata": {
        "execution": {
          "iopub.status.busy": "2024-03-04T08:12:11.47479Z",
          "iopub.execute_input": "2024-03-04T08:12:11.47611Z",
          "iopub.status.idle": "2024-03-04T08:12:12.042653Z"
        },
        "trusted": true,
        "id": "QeKPr4FeoAp4"
      },
      "execution_count": null,
      "outputs": []
    },
    {
      "cell_type": "markdown",
      "source": [
        "The dataset reveals a significant distinction in usage patterns between annual members and occasional riders within the Cyclistic bike share system.\n",
        "Members make up the majority of bike rides according to the dataset, with approximately 3,494,248 rides taken by annual members, compared to casual riders who have taken nearly 1,984,005 rides. This suggests that annual members tend to cycle more frequently than casual riders."
      ],
      "metadata": {
        "id": "fwRApEmboAp4"
      }
    },
    {
      "cell_type": "code",
      "source": [
        "library(ggplot2)\n",
        "\n",
        "# Count rides for 'Member' and 'Casual' in the 'member_casual' column\n",
        "count_member_casual <- table(all_rides_df_clean$member_casual)\n",
        "\n",
        "# Calculate the percentages for 'Member' and 'Casual'\n",
        "percentage_member_casual <- prop.table(count_member_casual) * 100\n",
        "\n",
        "# Create a data frame for plotting\n",
        "member_casual_data <- data.frame(\n",
        "  Status = names(percentage_member_casual),\n",
        "  Percentage = as.numeric(percentage_member_casual)\n",
        ")\n",
        "\n",
        "# Create the pie chart\n",
        "pie_chart_percentage_distribution <- ggplot(member_casual_data, aes(x = \"\", y = Percentage, fill = Status)) +\n",
        "  geom_bar(stat = \"identity\", width = 1) +\n",
        "  coord_polar(\"y\", start = 0) +\n",
        "  scale_fill_manual(\n",
        "    values = c(\"member\" = \"#01b1c6\", \"casual\" = \"#f28e2b\"),\n",
        "    name = \"Biker Status\"\n",
        "  ) +\n",
        "  geom_text(aes(label = paste0(round(Percentage, 2), \"%\")),\n",
        "            position = position_stack(vjust = 0.5)) +\n",
        "  labs(title = \"Percentage distribution of Member and Casual Rides\",\n",
        "       subtitle = \"The period from 2022-12-01 to 2023-11-30\") +\n",
        "  theme_void() +\n",
        "  theme(legend.position = \"right\",\n",
        "        plot.title = element_text(size = 15, face = \"bold\"),\n",
        "        plot.subtitle = element_text(size = 9))\n",
        "\n",
        "# Display the pie chart\n",
        "pie_chart_percentage_distribution"
      ],
      "metadata": {
        "execution": {
          "iopub.status.busy": "2024-03-04T08:14:03.565943Z",
          "iopub.execute_input": "2024-03-04T08:14:03.567224Z",
          "iopub.status.idle": "2024-03-04T08:14:04.033308Z"
        },
        "trusted": true,
        "id": "VBTwJnSgoAp4"
      },
      "execution_count": null,
      "outputs": []
    },
    {
      "cell_type": "markdown",
      "source": [
        "Cyclistic's historical data reveals a clear pattern in rider types' usage. Annual members account for the majority of rides at 63.78%, equating to 3,494,248 rides. Casual riders, on the other hand, represent 36.22% of rides, totaling 1,984,005. This data indicates a strong preference for membership-based usage within the Cyclistic bike-sharing community.\n",
        "\n",
        "## Count of Bike Types Usage by Members and Casual Riders"
      ],
      "metadata": {
        "id": "1DzoEFaboAp4"
      }
    },
    {
      "cell_type": "code",
      "source": [
        "# Analyze the use of bike types between members and casual users\n",
        "usage_by_type_member <- table(all_rides_df_clean$rideable_type\n",
        "                              [all_rides_df_clean$member_casual == \"member\"])\n",
        "usage_by_type_casual <- table(all_rides_df_clean$rideable_type\n",
        "                              [all_rides_df_clean$member_casual == \"casual\"])\n",
        "\n",
        "# Display usage of rideable type by Members\n",
        "cat(\"Rideable type usage by Members:\\n\")\n",
        "print(usage_by_type_member)\n",
        "\n",
        "# Display usage of rideable type by Casual riders\n",
        "cat(\"Rideable type usage by Casual riders:\\n\")\n",
        "print(usage_by_type_casual)"
      ],
      "metadata": {
        "execution": {
          "iopub.status.busy": "2024-03-04T08:16:02.196839Z",
          "iopub.execute_input": "2024-03-04T08:16:02.19804Z",
          "iopub.status.idle": "2024-03-04T08:16:02.61045Z"
        },
        "trusted": true,
        "id": "IMFAWM8poAp4"
      },
      "execution_count": null,
      "outputs": []
    },
    {
      "cell_type": "code",
      "source": [
        "library(ggplot2)\n",
        "\n",
        "# Create a summary data frame for the counts of bike type usage by member and casual riders\n",
        "bike_usage_summary <- aggregate(cbind(\n",
        "    Number_of_Rides = all_rides_df_clean$rideable_type) ~ rideable_type + member_casual,\n",
        "                                data = all_rides_df_clean, length)\n",
        "\n",
        "# Create the bar chart\n",
        "bar_chart_number_of_bike_types <- ggplot(\n",
        "    bike_usage_summary, aes(x = rideable_type, y = Number_of_Rides, fill = member_casual)) +\n",
        "  geom_bar(stat = \"identity\", position = \"dodge\") +\n",
        "  scale_fill_manual(values = c(\"member\" = \"#01b1c6\", \"casual\" = \"#f28e2b\")) +\n",
        "  labs(title = \"Number of Bike Types Usage by Members and Casual Riders\",\n",
        "       subtitle = \"The period from 2022-12-01 to 2023-11-30\",\n",
        "       x = \"Bike Type\",\n",
        "       y = \"Number of Rides\",\n",
        "       fill = \"Biker Status\") +\n",
        "  theme_minimal() +\n",
        "  theme(plot.title = element_text(size = 15, face = \"bold\"),\n",
        "        plot.subtitle = element_text(size = 9),\n",
        "        legend.position = \"right\")\n",
        "\n",
        "# Display the bar chart\n",
        "bar_chart_number_of_bike_types"
      ],
      "metadata": {
        "execution": {
          "iopub.status.busy": "2024-03-04T08:18:11.608838Z",
          "iopub.execute_input": "2024-03-04T08:18:11.610077Z",
          "iopub.status.idle": "2024-03-04T08:18:15.336548Z"
        },
        "trusted": true,
        "id": "u0jQsYKGoAp4"
      },
      "execution_count": null,
      "outputs": []
    },
    {
      "cell_type": "markdown",
      "source": [
        "The graph shows that Cyclistic members predominantly use classic bikes (1,752,793 rides) and electric bikes (1,741,455 rides). Casual riders prefer electric bikes (1,052,504 rides) over classic bikes (852,217 rides) and docked bikes (79,284 rides). Docked bikes are the least utilized type, and their use is exclusive to casual riders within this dataset. Members do not use docked bikes at all."
      ],
      "metadata": {
        "id": "pabiaRwzoAp4"
      }
    },
    {
      "cell_type": "code",
      "source": [
        "# Determine the most commonly used type of bike\n",
        "most_common_ride_type <- names(sort(table(all_rides_df_clean$rideable_type),\n",
        "                                    decreasing = TRUE)[1])\n",
        "\n",
        "# Display the most popular ride type\n",
        "cat(\"The most popular ride type is:\", most_common_ride_type, \"\\n\")"
      ],
      "metadata": {
        "execution": {
          "iopub.status.busy": "2024-03-04T08:20:23.792797Z",
          "iopub.execute_input": "2024-03-04T08:20:23.794116Z",
          "iopub.status.idle": "2024-03-04T08:20:24.058953Z"
        },
        "trusted": true,
        "id": "6Z0woEENoAp5"
      },
      "execution_count": null,
      "outputs": []
    },
    {
      "cell_type": "markdown",
      "source": [
        "The **unique** rideable types include electric bikes, classic bikes, docked bikes, and **electric bikes** are the most **popular**.\n",
        "\n",
        "## Average Ride Length by Users\n",
        "\n",
        "On average, **members** take shorter rides at **12 minutes** and **29 seconds**, while **casual** riders tend to ride longer, averaging **21 minutes** and **53 seconds**, against an **overall** average ride length of **15 minutes** and **54 seconds** for the year."
      ],
      "metadata": {
        "id": "FgUI00ByoAp5"
      }
    },
    {
      "cell_type": "code",
      "source": [
        "# Required library for time conversion\n",
        "library(lubridate)\n",
        "\n",
        "# Direct calculation and formatting of the overall average ride length\n",
        "mean_ride_length_seconds <- mean(all_rides_df_clean$ride_length_seconds, na.rm = TRUE)\n",
        "mean_ride_length_hms <- as_hms(mean_ride_length_seconds)\n",
        "mean_ride_length_formatted <- sprintf(\"%02d:%02d:%02d\",\n",
        "                                      hour(mean_ride_length_hms),\n",
        "                                      minute(mean_ride_length_hms),\n",
        "                                      second(mean_ride_length_hms)\n",
        "                                     )\n",
        "\n",
        "# Display the overall average ride length\n",
        "cat(\"The overall average length of rides:\", mean_ride_length_formatted, \"\\n\")\n",
        "\n",
        "# Calculation of the average ride length in seconds for members and casual users\n",
        "average_ride_length_member_seconds <- mean(\n",
        "    all_rides_df_clean$ride_length_seconds[all_rides_df_clean$member_casual == \"member\"], na.rm = TRUE)\n",
        "average_ride_length_casual_seconds <- mean(\n",
        "    all_rides_df_clean$ride_length_seconds[all_rides_df_clean$member_casual == \"casual\"], na.rm = TRUE)\n",
        "\n",
        "# Convert the averages to HH:MM:SS format\n",
        "average_ride_length_member_hms <- as_hms(average_ride_length_member_seconds)\n",
        "average_ride_length_member_formatted <- sprintf(\"%02d:%02d:%02d\",\n",
        "                                                hour(average_ride_length_member_hms),\n",
        "                                                minute(average_ride_length_member_hms),\n",
        "                                                second(average_ride_length_member_hms)\n",
        "                                               )\n",
        "\n",
        "average_ride_length_casual_hms <- as_hms(average_ride_length_casual_seconds)\n",
        "average_ride_length_casual_formatted <- sprintf(\"%02d:%02d:%02d\",\n",
        "                                                hour(average_ride_length_casual_hms),\n",
        "                                                minute(average_ride_length_casual_hms),\n",
        "                                                second(average_ride_length_casual_hms)\n",
        "                                               )\n",
        "\n",
        "# Display the formatted average ride lengths for member and casual riders\n",
        "cat(\"The average ride length for member riders:\", average_ride_length_member_formatted, \"\\n\")\n",
        "cat(\"The average ride length for casual riders:\", average_ride_length_casual_formatted, \"\\n\")"
      ],
      "metadata": {
        "execution": {
          "iopub.status.busy": "2024-03-04T08:21:46.133709Z",
          "iopub.execute_input": "2024-03-04T08:21:46.135089Z",
          "iopub.status.idle": "2024-03-04T08:21:46.366425Z"
        },
        "trusted": true,
        "id": "A-4yXrVyoAp5"
      },
      "execution_count": null,
      "outputs": []
    },
    {
      "cell_type": "markdown",
      "source": [
        "## The most frequent day of the week for rides\n",
        "\n",
        "**Saturday** is the most popular day for rides **overall** and for **casual** users, while **members** ride most frequently on **Thursdays**."
      ],
      "metadata": {
        "id": "kgsN5Pj3oAp5"
      }
    },
    {
      "cell_type": "code",
      "source": [
        "# Calculate the mode of the day of the week for all rides\n",
        "day_of_week_mode <- names(which.max(table(all_rides_df_clean$day_of_week)))\n",
        "\n",
        "# Display the most common day for all rides\n",
        "cat(\"The most frequent day of the week for rides is: \", day_of_week_mode, \"\\n\")\n",
        "\n",
        "# Calculate the mode of the day of the week specifically for member rides\n",
        "member_day_of_week_mode <- names(\n",
        "  which.max(table(all_rides_df_clean$day_of_week[all_rides_df_clean$member_casual == \"member\"]))\n",
        ")\n",
        "\n",
        "# Calculate the mode of the day of the week specifically for casual user rides\n",
        "casual_day_of_week_mode <- names(\n",
        "  which.max(table(all_rides_df_clean$day_of_week[all_rides_df_clean$member_casual == \"casual\"]))\n",
        ")\n",
        "\n",
        "# Display the most common day of the week for member rides\n",
        "cat(\"The most frequent day of the week for rides for Members: \", member_day_of_week_mode, \"\\n\")\n",
        "\n",
        "# Display the most common day of the week for casual user rides\n",
        "cat(\"The most frequent day of the week for rides for Casual users: \", casual_day_of_week_mode, \"\\n\")"
      ],
      "metadata": {
        "execution": {
          "iopub.status.busy": "2024-03-04T08:22:43.642277Z",
          "iopub.execute_input": "2024-03-04T08:22:43.643576Z",
          "iopub.status.idle": "2024-03-04T08:22:44.555142Z"
        },
        "trusted": true,
        "id": "ezC-XL-moAp5"
      },
      "execution_count": null,
      "outputs": []
    },
    {
      "cell_type": "markdown",
      "source": [
        "## Calculation of the number of rides by users and bike type usage per day of the week"
      ],
      "metadata": {
        "id": "FjaRMNN4oAp6"
      }
    },
    {
      "cell_type": "code",
      "source": [
        "# Calculation of the number of rides for all users, members, and casual users by day of the week\n",
        "num_rides_by_day_of_week <- table(all_rides_df_clean$day_of_week)\n",
        "num_rides_member_by_day_of_week <- table(\n",
        "    all_rides_df_clean$day_of_week[all_rides_df_clean$member_casual == \"member\"])\n",
        "num_rides_casual_by_day_of_week <- table(\n",
        "    all_rides_df_clean$day_of_week[all_rides_df_clean$member_casual == \"casual\"])\n",
        "\n",
        "# Display results to the console\n",
        "cat(\"Number of rides by day of the week for All users:\\n\")\n",
        "print(num_rides_by_day_of_week)\n",
        "cat(\"Number of rides by day of the week for Members:\\n\")\n",
        "print(num_rides_member_by_day_of_week)\n",
        "cat(\"Number of rides by day of the week for Casual users:\\n\")\n",
        "print(num_rides_casual_by_day_of_week)\n",
        "\n",
        "# Creating a tibble with the appropriate number of rows (7 for each day of the week)\n",
        "all_rides_day_week_tibble <- tibble(\n",
        "  day_of_week = factor(names(num_rides_by_day_of_week), levels = names(num_rides_by_day_of_week)),\n",
        "  num_rides_users = as.numeric(num_rides_by_day_of_week),\n",
        "  num_rides_casual = as.numeric(num_rides_casual_by_day_of_week),\n",
        "  num_rides_member = as.numeric(num_rides_member_by_day_of_week)\n",
        ")\n",
        "\n",
        "# Display the created tibble\n",
        "print(all_rides_day_week_tibble)\n",
        "\n",
        "# Count of the bike types by day of the week\n",
        "ride_type_usage_by_day <- table(all_rides_df_clean$day_of_week, all_rides_df_clean$rideable_type)\n",
        "cat(\"Ride type usage by Day of the Week:\\n\")\n",
        "print(ride_type_usage_by_day)"
      ],
      "metadata": {
        "execution": {
          "iopub.status.busy": "2024-03-04T08:23:41.386982Z",
          "iopub.execute_input": "2024-03-04T08:23:41.38839Z",
          "iopub.status.idle": "2024-03-04T08:23:42.748211Z"
        },
        "trusted": true,
        "id": "un_jm3uvoAp-"
      },
      "execution_count": null,
      "outputs": []
    },
    {
      "cell_type": "code",
      "source": [
        "# Read CSV file\n",
        "number_of_rides_by_day_of_week <- read.csv(\"/kaggle/input/cyclistic-dataset/number_of_rides_by_day_of_week.csv\")\n",
        "\n",
        "# Convert the day_of_week to a factor with the levels in the order you want\n",
        "number_of_rides_by_day_of_week$day_of_week <- factor(\n",
        "    number_of_rides_by_day_of_week$day_of_week,\n",
        "    levels = c(\"Monday\", \"Tuesday\", \"Wednesday\", \"Thursday\", \"Friday\", \"Saturday\", \"Sunday\"))\n",
        "\n",
        "# Custom label function to format the labels as '100K', '200K', etc.\n",
        "label_100k <- function(x) {\n",
        "  paste0(x / 1e3, \"K\")\n",
        "}\n",
        "\n",
        "# Plotting the bar chart with ggplot2\n",
        "rides_plot <- ggplot(number_of_rides_by_day_of_week,\n",
        "                     aes(x = day_of_week, y = number_of_rides, fill = member_casual)) +\n",
        "  geom_bar(stat = \"identity\", position = \"dodge\") +  # Use dodge for side-by-side bars\n",
        "  scale_fill_manual(values = c(\"member\" = \"#01b1c6\", \"casual\" = \"#f28e2b\")) +\n",
        "  labs(title = \"Number of User Rides per Day of the Week\",\n",
        "       subtitle = \"The period from 2022-12-01 to 2023-11-30\",\n",
        "       x = \"Day of the Week\",\n",
        "       y = \"Number of Rides\",\n",
        "       fill = \"Biker Status\") +\n",
        "  scale_y_continuous(labels = label_100k,\n",
        "                     breaks = seq(0, max(number_of_rides_by_day_of_week$number_of_rides), by = 100000)) +\n",
        "  theme_minimal() +\n",
        "  theme(plot.title = element_text(size = 15, face = \"bold\"),\n",
        "        plot.subtitle = element_text(size = 9),\n",
        "        legend.position = \"right\",\n",
        "        axis.text.x = element_text(angle = 45, hjust = 1))\n",
        "\n",
        "# Display the plot\n",
        "print(rides_plot)"
      ],
      "metadata": {
        "execution": {
          "iopub.status.busy": "2024-03-04T08:27:30.321755Z",
          "iopub.execute_input": "2024-03-04T08:27:30.323016Z",
          "iopub.status.idle": "2024-03-04T08:27:30.933723Z"
        },
        "trusted": true,
        "id": "i1mlKWrloAp-"
      },
      "execution_count": null,
      "outputs": []
    },
    {
      "cell_type": "markdown",
      "source": [
        "Based on the graph, Thursday is the peak day for member rides, while Saturday is the most popular for casual users, with these days accounting for 15.13% and 15.41% of weekly rides respectively. Conversely, the least favored days are Sunday for members and Monday for casual users.\n",
        "\n",
        "## Average Ride Length by Day of the Week for All Users, Members, and Casual Riders"
      ],
      "metadata": {
        "id": "Wh9p1zayoAp-"
      }
    },
    {
      "cell_type": "code",
      "source": [
        "# Calculate the average ride length for all users by day of the week\n",
        "average_ride_length_by_day <- all_rides_df_clean %>%\n",
        "  group_by(day_of_week) %>%\n",
        "  summarise(ride_length_minutes = mean(ride_length_minutes, na.rm = TRUE))\n",
        "\n",
        "# Calculate the average ride length for members by day of the week\n",
        "average_ride_length_member_by_day <- all_rides_df_clean %>%\n",
        "  filter(member_casual == \"member\") %>%\n",
        "  group_by(day_of_week) %>%\n",
        "  summarise(ride_length_minutes = mean(ride_length_minutes, na.rm = TRUE))\n",
        "\n",
        "# Calculate the average ride length for casual users by day of the week\n",
        "average_ride_length_casual_by_day <- all_rides_df_clean %>%\n",
        "  filter(member_casual == \"casual\") %>%\n",
        "  group_by(day_of_week) %>%\n",
        "  summarise(ride_length_minutes = mean(ride_length_minutes, na.rm = TRUE))\n",
        "\n",
        "# Create a unified data frame for each user type with an additional column for user type\n",
        "df_all_users <- average_ride_length_by_day %>% mutate(user_type = \"All Users\")\n",
        "df_members <- average_ride_length_member_by_day %>% mutate(user_type = \"Member\")\n",
        "df_casual <- average_ride_length_casual_by_day %>% mutate(user_type = \"Casual\")\n",
        "\n",
        "# Combine all data frames into one\n",
        "all_rides_df_final_avg_ride_length_by_day <- bind_rows(df_all_users, df_members, df_casual)\n",
        "\n",
        "# Display the calculated averages to the console with clear separation\n",
        "cat(\"Average Ride Length for All Users by Day of the Week:\\n\")\n",
        "print(df_all_users)\n",
        "cat(\"Average Ride Length for Member Riders by Day of the Week:\\n\")\n",
        "print(df_members)\n",
        "cat(\"Average Ride Length for Casual Riders by Day of the Week:\\n\")\n",
        "print(df_casual)"
      ],
      "metadata": {
        "execution": {
          "iopub.status.busy": "2024-03-04T08:31:27.526821Z",
          "iopub.execute_input": "2024-03-04T08:31:27.528187Z",
          "iopub.status.idle": "2024-03-04T08:31:29.772394Z"
        },
        "trusted": true,
        "id": "L-TFFca0oAp-"
      },
      "execution_count": null,
      "outputs": []
    },
    {
      "cell_type": "code",
      "source": [
        "# Mapping weekday numbers to day names\n",
        "day_names <- c(\"Sunday\", \"Monday\", \"Tuesday\", \"Wednesday\", \"Thursday\", \"Friday\", \"Saturday\")\n",
        "\n",
        "# Adding a new `day_name` column with day names\n",
        "all_rides_df_clean <- all_rides_df_clean %>%\n",
        "  mutate(day_name = day_names[day_of_week])\n",
        "\n",
        "# Calculate the average ride length for members by day of the week\n",
        "average_ride_length_member_by_day <- all_rides_df_clean %>%\n",
        "  filter(member_casual == \"member\") %>%\n",
        "  group_by(day_name) %>%\n",
        "  summarise(ride_length_minutes = mean(ride_length_minutes, na.rm = TRUE))\n",
        "\n",
        "# Calculate the average ride length for casual users by day of the week\n",
        "average_ride_length_casual_by_day <- all_rides_df_clean %>%\n",
        "  filter(member_casual == \"casual\") %>%\n",
        "  group_by(day_name) %>%\n",
        "  summarise(ride_length_minutes = mean(ride_length_minutes, na.rm = TRUE))\n",
        "\n",
        "# Create a unified data frame for each user type with an additional column for user type\n",
        "df_members <- average_ride_length_member_by_day %>% mutate(user_type = \"Member\")\n",
        "df_casual <- average_ride_length_casual_by_day %>% mutate(user_type = \"Casual\")\n",
        "\n",
        "# Combine all data frames into one\n",
        "all_rides_df_final_avg_ride_length_by_day <- bind_rows(df_members, df_casual)\n",
        "\n",
        "# Plotting the bar chart with ggplot2\n",
        "average_rides_length_plot <- ggplot(all_rides_df_final_avg_ride_length_by_day,\n",
        "                                    aes(x = day_name, y = ride_length_minutes, fill = user_type)) +\n",
        "  geom_bar(stat = \"identity\", position = \"stack\") +\n",
        "  scale_fill_manual(values = c(\"Member\" = \"#01b1c6\", \"Casual\" = \"#f28e2b\")) +\n",
        "  labs(title = \"Average Ride Length by Day of the Week for Members and Casual Riders\",\n",
        "       subtitle = \"The period from 2022-12-01 to 2023-11-30\",\n",
        "       x = \"Day of the Week\",\n",
        "       y = \"Duration of the average ride in minutes\",\n",
        "       fill = \"User Type\") +\n",
        "  theme_minimal() +\n",
        "  theme(plot.title = element_text(size = 15, face = \"bold\"),\n",
        "        plot.subtitle = element_text(size = 9),\n",
        "        legend.position = \"right\",\n",
        "        axis.text.x = element_text(angle = 45, hjust = 1))\n",
        "\n",
        "# Display the plot\n",
        "print(average_rides_length_plot)"
      ],
      "metadata": {
        "execution": {
          "iopub.status.busy": "2024-03-04T08:36:30.377019Z",
          "iopub.execute_input": "2024-03-04T08:36:30.378446Z",
          "iopub.status.idle": "2024-03-04T08:36:32.712858Z"
        },
        "trusted": true,
        "id": "2BtHTg__oAp_"
      },
      "execution_count": null,
      "outputs": []
    },
    {
      "cell_type": "markdown",
      "source": [
        "The graph illustrates that while members consistently ride for shorter durations across the week, casual riders take longer rides, especially on weekends, which may suggest leisure or tourist activities. Casual riders' trips peak on Sundays, averaging 25.57 minutes, in contrast to members, who average around 12 minutes daily.\n",
        "\n",
        "## Total Number of Trips for Each User Group during Different Parts of the Day"
      ],
      "metadata": {
        "id": "E4NEmfsSoAp_"
      }
    },
    {
      "cell_type": "code",
      "source": [
        "# Calculate the total number of rides for each part of the day for all users\n",
        "total_usage_all <- all_rides_df_clean %>%\n",
        "  group_by(part_of_day) %>%\n",
        "  summarize(total_rides = n(), .groups = 'drop')\n",
        "\n",
        "# Calculate the total number of rides for each part of the day for members\n",
        "total_usage_member <- all_rides_df_clean %>%\n",
        "  filter(member_casual == \"member\") %>%\n",
        "  group_by(part_of_day) %>%\n",
        "  summarize(total_rides = n(), .groups = 'drop')\n",
        "\n",
        "# Calculate the total number of rides for each part of the day for casual riders\n",
        "total_usage_casual <- all_rides_df_clean %>%\n",
        "  filter(member_casual == \"casual\") %>%\n",
        "  group_by(part_of_day) %>%\n",
        "  summarize(total_rides = n(), .groups = 'drop')\n",
        "\n",
        "# Display the results\n",
        "cat(\"Total Usage by Part of the Day for All Riders:\\n\")\n",
        "print(total_usage_all)\n",
        "cat(\"Total Usage by Part of the Day for Members:\\n\")\n",
        "print(total_usage_member)\n",
        "cat(\"Total Usage by Part of the Day for Casual Riders:\\n\")\n",
        "print(total_usage_casual)"
      ],
      "metadata": {
        "execution": {
          "iopub.status.busy": "2024-03-04T08:38:33.89809Z",
          "iopub.execute_input": "2024-03-04T08:38:33.899377Z",
          "iopub.status.idle": "2024-03-04T08:38:35.897884Z"
        },
        "trusted": true,
        "id": "6zLsE1fboAp_"
      },
      "execution_count": null,
      "outputs": []
    },
    {
      "cell_type": "code",
      "source": [
        "library(scales)\n",
        "\n",
        "# Total_usage_member in total_usage_casual sta že pripravljena od prejsnjega izracuna\n",
        "total_usage <- bind_rows(\n",
        "  total_usage_member %>% mutate(biker_status = \"member\"),\n",
        "  total_usage_casual %>% mutate(biker_status = \"casual\")\n",
        ")\n",
        "\n",
        "# Customizing the label design feature\n",
        "label_format <- function(x) {\n",
        "  paste0(formatC(x / 1e3, digits = 0, format = \"f\", big.mark = \",\"), \"K\")\n",
        "}\n",
        "\n",
        "# Creating a chart\n",
        "total_usage_by_part_of_the_day_plot <- ggplot(total_usage,\n",
        "                                              aes(x = part_of_day, y = total_rides, fill = biker_status)) +\n",
        "  geom_bar(stat = \"identity\", position = \"dodge\") +\n",
        "  scale_fill_manual(values = c(\"casual\" = \"#f28e2b\", \"member\" = \"#01b1c6\")) +\n",
        "  scale_y_continuous(\n",
        "    labels = label_format,\n",
        "    breaks = seq(0, 1200000, by = 200000),\n",
        "    limits = c(NA, 1200000)\n",
        "  ) +\n",
        "  labs(\n",
        "    title = \"Total Number of Trips during Different Parts of the Day\",\n",
        "    subtitle = \"The period from 2022-12-01 to 2023-11-30\",\n",
        "    x = \"Part of Day\",\n",
        "    y = \"Number of Rides\",\n",
        "    fill = \"Biker status\"\n",
        "  ) +\n",
        "  theme_minimal() +\n",
        "  theme(\n",
        "    plot.title = element_text(size = 15, face = \"bold\"),\n",
        "    plot.subtitle = element_text(size = 9),\n",
        "    legend.position = \"right\",\n",
        "    axis.text.x = element_text(angle = 45, hjust = 1)\n",
        "  )\n",
        "\n",
        "# # Display graph\n",
        "print(total_usage_by_part_of_the_day_plot)"
      ],
      "metadata": {
        "execution": {
          "iopub.status.busy": "2024-03-04T08:44:41.418794Z",
          "iopub.execute_input": "2024-03-04T08:44:41.42013Z",
          "iopub.status.idle": "2024-03-04T08:44:41.667477Z"
        },
        "trusted": true,
        "id": "qad9FfjhoAp_"
      },
      "execution_count": null,
      "outputs": []
    },
    {
      "cell_type": "markdown",
      "source": [
        "The chart shows that the afternoon is the most popular time for bike rides, with member trips evenly distributed throughout morning, afternoon, and evening, while casual riders exhibit a peak in the afternoon.\n",
        "\n",
        "## Top 10 Most Popular Riding Hours"
      ],
      "metadata": {
        "id": "Ecx6G_A0oAp_"
      }
    },
    {
      "cell_type": "code",
      "source": [
        "# Calculate the hour from the 'started_at_time' column, which is in the HH:MM:SS string format\n",
        "all_rides_df_clean <- all_rides_df_clean %>%\n",
        "  mutate(hour_of_day = as.integer(substr(started_at_time, 1, 2)))\n",
        "\n",
        "# Calculate the number of rides per hour for all users\n",
        "hour_of_day_usage_all_top <- all_rides_df_clean %>%\n",
        "  group_by(hour_of_day) %>%\n",
        "  summarize(total_rides = n(), .groups = 'drop') %>%\n",
        "  top_n(10, total_rides)\n",
        "\n",
        "# Calculate the number of rides per hour for members\n",
        "hour_of_day_usage_member_top <- all_rides_df_clean %>%\n",
        "  filter(member_casual == \"member\") %>%\n",
        "  group_by(hour_of_day) %>%\n",
        "  summarize(total_rides = n(), .groups = 'drop') %>%\n",
        "  top_n(10, total_rides)\n",
        "\n",
        "# Calculate the number of rides per hour for casual riders\n",
        "hour_of_day_usage_casual_top <- all_rides_df_clean %>%\n",
        "  filter(member_casual == \"casual\") %>%\n",
        "  group_by(hour_of_day) %>%\n",
        "  summarize(total_rides = n(), .groups = 'drop') %>%\n",
        "  top_n(10, total_rides)\n",
        "\n",
        "# Print the top 10 most popular riding hours for all users\n",
        "cat(\"Top 10 Most Popular Riding Hours for All Users:\\n\")\n",
        "print(hour_of_day_usage_all_top %>% arrange(desc(total_rides)))\n",
        "\n",
        "# Print the top 10 most popular riding hours for members\n",
        "cat(\"Top 10 Most Popular Riding Hours for Members:\\n\")\n",
        "print(hour_of_day_usage_member_top %>% arrange(desc(total_rides)))\n",
        "\n",
        "# Print the top 10 most popular riding hours for casual riders\n",
        "cat(\"Top 10 Most Popular Riding Hours for Casual Riders:\\n\")\n",
        "print(hour_of_day_usage_casual_top %>% arrange(desc(total_rides)))"
      ],
      "metadata": {
        "execution": {
          "iopub.status.busy": "2024-03-04T08:45:39.987597Z",
          "iopub.execute_input": "2024-03-04T08:45:39.988907Z",
          "iopub.status.idle": "2024-03-04T08:45:43.504083Z"
        },
        "trusted": true,
        "id": "qa-xdVI4oAqA"
      },
      "execution_count": null,
      "outputs": []
    },
    {
      "cell_type": "code",
      "source": [
        "# Create a graph to show the most popular cycling hours for all users\n",
        "most_popular_riding_hours <- ggplot(hour_of_day_usage_all_top, aes(x = hour_of_day, y = total_rides)) +\n",
        "  geom_line(group = 1, color = \"#948473\") +\n",
        "  geom_point(size = 3, color = \"#f8048e\") +\n",
        "  scale_y_continuous(\n",
        "    labels = scales::label_number(scale = 1e-3, suffix = \"K\"),\n",
        "    breaks = seq(0, 600 * 1e3, by = 100 * 1e3),\n",
        "    limits = c(0, 600 * 1e3)\n",
        "  ) +\n",
        "  scale_x_continuous(breaks = hour_of_day_usage_all_top$hour_of_day) +\n",
        "  labs(\n",
        "    title = \"Top 10 Most Popular Riding Hours Overall\",\n",
        "    subtitle = \"The period from 2022-12-01 to 2023-11-30\",\n",
        "    x = \"Hour of Day AM/PM\",\n",
        "    y = \"Number of Rides\"\n",
        "  ) +\n",
        "  theme_minimal() +\n",
        "  theme(\n",
        "    plot.title = element_text(size = 15, face = \"bold\"),\n",
        "    plot.subtitle = element_text(size = 9)\n",
        "  )\n",
        "\n",
        "# Display graph\n",
        "print(most_popular_riding_hours)"
      ],
      "metadata": {
        "execution": {
          "iopub.status.busy": "2024-03-04T08:47:46.045124Z",
          "iopub.execute_input": "2024-03-04T08:47:46.046477Z",
          "iopub.status.idle": "2024-03-04T08:47:46.265903Z"
        },
        "trusted": true,
        "id": "FJ1VYfp3oAqA"
      },
      "execution_count": null,
      "outputs": []
    },
    {
      "cell_type": "markdown",
      "source": [
        "The data from the chart indicates that the late afternoon, specifically around 5 PM, is the most popular time for cycling, with 564,221 rides occurring during this time. Furthermore, the time span from 3 PM to 6 PM is the preferred window for cycling, accounting for 1,905,528 rides, which represents 34.7835% of total rides."
      ],
      "metadata": {
        "id": "UaUCSaBqoAqA"
      }
    },
    {
      "cell_type": "code",
      "source": [
        "# Calculate the popularity of rides between 3 PM and 6 PM to determine\n",
        "# the number of rides in this time frame in both absolute and relative terms compared to all rides.\n",
        "\n",
        "all_rides_df_clean <- all_rides_df_clean %>%\n",
        "  mutate(hour_of_day = as.integer(substr(started_at_time, 1, 2)))\n",
        "\n",
        "# Filter rides between 3 PM and 6 PM\n",
        "hourly_usage_peak <- all_rides_df_clean %>%\n",
        "  filter(hour_of_day >= 15 & hour_of_day <= 18)\n",
        "\n",
        "# Calculate the total number of rides in this time period\n",
        "total_rides_peak <- nrow(hourly_usage_peak)\n",
        "\n",
        "# Calculate the total number of rides in the entire dataset for comparison\n",
        "total_rides_all <- nrow(all_rides_df_clean)\n",
        "\n",
        "# Calculate the share of rides in this time period compared to all rides\n",
        "percentage_peak <- (total_rides_peak / total_rides_all) * 100\n",
        "\n",
        "# Display the results\n",
        "cat(\"Total Rides between 3 PM and 6 PM:\", total_rides_peak, \"\\n\")\n",
        "cat(\"Percentage of Total Rides:\", format(percentage_peak, nsmall = 2), \"%\\n\")"
      ],
      "metadata": {
        "execution": {
          "iopub.status.busy": "2024-03-04T08:48:52.591618Z",
          "iopub.execute_input": "2024-03-04T08:48:52.592973Z",
          "iopub.status.idle": "2024-03-04T08:48:53.54208Z"
        },
        "trusted": true,
        "id": "ho3ybBAZoAqA"
      },
      "execution_count": null,
      "outputs": []
    },
    {
      "cell_type": "markdown",
      "source": [
        "In comparison with the previous graph, the following analysis is performed:\n",
        "- The peak cycling hours are between **3 PM** and **6 PM**, with **1,905,528** total rides, comprising 34.78% of all rides.\n",
        "- Evening rides, from **6 PM** to **11 PM**, total **1,464,636**, making up 26.74% of rides, indicating a significant preference for post-work cycling.\n",
        "- Late-night to early morning hours, from **12 AM** to **5 AM**, have the fewest rides at **210,012**, accounting for only 3.83% of the total, reflecting the least popular time for cycling.\n",
        "- Early to mid-morning rides, from **5 AM** to **8 AM**, total **714,303**, which is 13.04% of rides, showing a moderate uptake for early risers or commuters.\n",
        "- Late morning to midday, from **8 AM** to **12 PM**, sees **1,342,721** rides, comprising 24.51% of the total, indicating a preference for mid-morning cycling.\n",
        "- Combining early and late morning periods, from **5 AM** to **12 PM**, yields a total of 1,754,320 rides, or 32.02% of total rides, suggesting morning hours are fairly popular for cycling.\n",
        "- From noon to **3 PM**, there are **1,352,599** total rides, amounting to 24.69% of the total, which suggests a steady use of bikes into the early afternoon.\n",
        "- Extending from early morning through to the afternoon, from **5 AM** to **3 PM**, there are a total of **2,790,682** rides, representing a substantial 50.94% of all rides, indicating that the daytime hours up until mid-afternoon are the most popular for cycling.\n",
        "\n",
        "## Calculation of the Number of Rides During Different Times of the Day"
      ],
      "metadata": {
        "id": "s8qwZtJwoAqA"
      }
    },
    {
      "cell_type": "code",
      "source": [
        "# Calculate the hour from the timestamp\n",
        "all_rides_df_clean <- all_rides_df_clean %>%\n",
        "  mutate(hour_of_day = hour(hms::as_hms(started_at_time)))\n",
        "\n",
        "# Calculate the number of rides per hour for all users\n",
        "hour_of_day_usage_all <- all_rides_df_clean %>%\n",
        "  group_by(hour_of_day) %>%\n",
        "  summarize(total_rides = n(), .groups = 'drop')\n",
        "\n",
        "# Calculate the number of rides per hour for members\n",
        "hour_of_day_usage_member <- all_rides_df_clean %>%\n",
        "  filter(member_casual == \"member\") %>%\n",
        "  group_by(hour_of_day) %>%\n",
        "  summarize(total_rides = n(), .groups = 'drop')\n",
        "\n",
        "# Calculate the number of rides per hour for casual riders\n",
        "hour_of_day_usage_casual <- all_rides_df_clean %>%\n",
        "  filter(member_casual == \"casual\") %>%\n",
        "  group_by(hour_of_day) %>%\n",
        "  summarize(total_rides = n(), .groups = 'drop')\n",
        "\n",
        "# Display the results\n",
        "cat(\"Hourly Usage for All Riders:\\n\")\n",
        "print(hour_of_day_usage_all)\n",
        "cat(\"Hourly Usage for Members:\\n\")\n",
        "print(hour_of_day_usage_member)\n",
        "cat(\"Hourly Usage for Casual Riders:\\n\")\n",
        "print(hour_of_day_usage_casual)"
      ],
      "metadata": {
        "execution": {
          "iopub.status.busy": "2024-03-04T08:50:01.105309Z",
          "iopub.execute_input": "2024-03-04T08:50:01.106609Z",
          "iopub.status.idle": "2024-03-04T08:50:07.634909Z"
        },
        "trusted": true,
        "id": "Lxx7wOqQoAqA"
      },
      "execution_count": null,
      "outputs": []
    },
    {
      "cell_type": "code",
      "source": [
        "# Create a graph to show all cycling hours for all users\n",
        "rides_different_times_of_the_Day <- ggplot(hour_of_day_usage_all, aes(x = hour_of_day, y = total_rides)) +\n",
        "  geom_line(group = 1, color = \"#948473\") +\n",
        "  geom_point(size = 3, color = \"#f8048e\") +\n",
        "  scale_y_continuous(\n",
        "    labels = scales::label_number(scale = 1e-3, suffix = \"K\"),\n",
        "    breaks = seq(0, 600 * 1e3, by = 100 * 1e3),\n",
        "    limits = c(0, 600 * 1e3)\n",
        "  ) +\n",
        "  scale_x_continuous(breaks = hour_of_day_usage_all$hour_of_day) +\n",
        "  labs(\n",
        "    title = \"Number of Rides During Different Times of the Day\",\n",
        "    subtitle = \"The period from 2022-12-01 to 2023-11-30\",\n",
        "    x = \"Hour of Day AM/PM\",\n",
        "    y = \"Number of Rides\"\n",
        "  ) +\n",
        "  theme_minimal() +\n",
        "  theme(\n",
        "    plot.title = element_text(size = 15, face = \"bold\"),\n",
        "    plot.subtitle = element_text(size = 9)\n",
        "  )\n",
        "\n",
        "# Display graph\n",
        "print(rides_different_times_of_the_Day)"
      ],
      "metadata": {
        "execution": {
          "iopub.status.busy": "2024-03-04T08:51:31.444952Z",
          "iopub.execute_input": "2024-03-04T08:51:31.44632Z",
          "iopub.status.idle": "2024-03-04T08:51:31.695516Z"
        },
        "trusted": true,
        "id": "Of_jGiDCoAqA"
      },
      "execution_count": null,
      "outputs": []
    },
    {
      "cell_type": "markdown",
      "source": [
        "The graph highlights that the period from afternoon to evening is the most favored for cycling, with the hours between 3 PM and 6 PM alone accounting for 34.78% of daily rides, signifying that over a third of the day's rides occur in this 3-hour window. Morning hours show the least activity, and there is a noticeable decline in rides from 6 PM to 11 PM, which constitutes 26.74% of the daily rides.\n",
        "\n",
        "## Percentage Distribution of Total Ride Counts by Hour of Day\n",
        "\n",
        "The graph's percentage distribution indicates that 5 PM is the peak time for rides, accounting for 10.30% of the total. There is a significant drop in activity from 11 PM to 5 AM, marking these as the least popular hours. Cyclistic users clearly favor the time span between 3 PM and 6 PM for their rides."
      ],
      "metadata": {
        "id": "m5BSOUVqoAqA"
      }
    },
    {
      "cell_type": "code",
      "source": [
        "# Calculate the hour from the timestamp\n",
        "all_rides_df_clean <- all_rides_df_clean %>%\n",
        "  mutate(hour_of_day = hour(hms::as_hms(started_at_time)))\n",
        "\n",
        "# Calculate the number of rides per hour for all users\n",
        "hour_of_day_usage_all <- all_rides_df_clean %>%\n",
        "  group_by(hour_of_day) %>%\n",
        "  summarize(total_rides = n(), .groups = 'drop')\n",
        "\n",
        "# Calculate the percentages for each hour of day\n",
        "hour_of_day_usage_all <- hour_of_day_usage_all %>%\n",
        "  mutate(percentage_rides = (total_rides / sum(total_rides)) * 100)\n",
        "\n",
        "# Create the graph for the distribution of rides by hour of day\n",
        "percentage_total_ride_by_hour_of_day <- ggplot(hour_of_day_usage_all,\n",
        "                                               aes(x = factor(hour_of_day), y = percentage_rides)) +\n",
        "  geom_bar(stat = \"identity\", fill = \"#a5998c\") +\n",
        "  scale_y_continuous(\n",
        "    labels = function(x) paste0(x, \"%\"),\n",
        "    breaks = seq(0, 12, by = 2),\n",
        "    limits = c(0, 12)\n",
        "  ) +\n",
        "  scale_x_discrete(\n",
        "    name = \"Hour of Day AM/PM\",\n",
        "    labels = function(x) {\n",
        "      am_pm <- ifelse(as.numeric(x) < 12, \"AM\", \"PM\")\n",
        "      hour <- as.numeric(x) %% 12\n",
        "      hour[hour == 0] <- 12\n",
        "      paste0(hour, \" \", am_pm)\n",
        "    }\n",
        "  ) +\n",
        "  labs(\n",
        "    title = \"Percentage Distribution of Total Ride Counts by Hour of Day\",\n",
        "    subtitle = \"The period from 2022-12-01 to 2023-11-30\",\n",
        "    y = \"Percentage of Rides\",\n",
        "    x = \"Hour of Day\"\n",
        "  ) +\n",
        "  theme_minimal() +\n",
        "  theme(\n",
        "    axis.text.x = element_text(angle = 45, hjust = 1),\n",
        "    plot.title = element_text(size = 15, face = \"bold\"),\n",
        "    plot.subtitle = element_text(size = 9)\n",
        "  )\n",
        "\n",
        "# Display graph\n",
        "print(percentage_total_ride_by_hour_of_day)"
      ],
      "metadata": {
        "execution": {
          "iopub.status.busy": "2024-03-04T08:53:38.246275Z",
          "iopub.execute_input": "2024-03-04T08:53:38.247627Z",
          "iopub.status.idle": "2024-03-04T08:53:42.026098Z"
        },
        "trusted": true,
        "id": "lrvfsQT3oAqB"
      },
      "execution_count": null,
      "outputs": []
    },
    {
      "cell_type": "code",
      "source": [
        "# Calculate the hour from the timestamp\n",
        "all_rides_df_clean <- all_rides_df_clean %>%\n",
        "  mutate(hour_of_day = hour(hms::as_hms(started_at_time)))\n",
        "\n",
        "# Calculate the number of rides per hour for members and casual riders and combine them\n",
        "hour_of_day_usage <- all_rides_df_clean %>%\n",
        "  group_by(hour_of_day, member_casual) %>%\n",
        "  summarize(total_rides = n(), .groups = 'drop')\n",
        "\n",
        "\n",
        "# Create the graph\n",
        "total_ride_by_hour_of_day_member_casual <- ggplot(\n",
        "    hour_of_day_usage, aes(x = factor(hour_of_day), y = total_rides, fill = member_casual)) +\n",
        "  geom_bar(stat = \"identity\", position = position_dodge()) +\n",
        "  scale_fill_manual(values = c(\"casual\" = \"#f28e2b\", \"member\" = \"#01b1c6\")) +\n",
        "  scale_y_continuous(\n",
        "    labels = label_number(scale = 1e-3, suffix = \"K\"),\n",
        "    breaks = seq(0, 400000, by = 50000),\n",
        "    limits = c(0, 400000)\n",
        "  ) +\n",
        "  scale_x_discrete(\n",
        "    name = \"Hour of Day AM/PM\",\n",
        "    labels = function(x) {\n",
        "      am_pm <- ifelse(as.numeric(x) < 12, \"AM\", \"PM\")\n",
        "      hour <- as.numeric(x) %% 12\n",
        "      hour[hour == 0] <- 12\n",
        "      paste0(hour, \" \", am_pm)\n",
        "    }\n",
        "  ) +\n",
        "  labs(\n",
        "    title = \"Total Ride Counts by Hour of Day for Casual Riders and Members\",\n",
        "    subtitle = \"The period from 2022-12-01 to 2023-11-30\",\n",
        "    x = \"Hour of Day AM/PM\",\n",
        "    y = \"Number of Rides\",\n",
        "    fill = \"Biker Status\"\n",
        "  ) +\n",
        "  theme_minimal() +\n",
        "  theme(\n",
        "    plot.title = element_text(size = 15, face = \"bold\"),\n",
        "    plot.subtitle = element_text(size = 9),\n",
        "    legend.position = \"right\",\n",
        "    axis.text.x = element_text(angle = 45, hjust = 1)\n",
        "  )\n",
        "\n",
        "# Display graph\n",
        "print(total_ride_by_hour_of_day_member_casual)"
      ],
      "metadata": {
        "execution": {
          "iopub.status.busy": "2024-03-04T08:55:18.658599Z",
          "iopub.execute_input": "2024-03-04T08:55:18.659913Z",
          "iopub.status.idle": "2024-03-04T08:55:23.047109Z"
        },
        "trusted": true,
        "id": "VKctlj5YoAqB"
      },
      "execution_count": null,
      "outputs": []
    },
    {
      "cell_type": "markdown",
      "source": [
        "The graph compares the hourly ride counts of casual riders and members, showing that members tend to ride mostly during morning peak hours, with a significant spike around 8 AM, and again in the late afternoon, peaking at 5 PM. Casual riders, on the other hand, have their highest counts later in the day, with their peak also at 5 PM but sustaining higher ride counts into the evening compared to members.\n",
        "\n",
        "## Number of Bike Rides and Percentage Distribution Across Seasons"
      ],
      "metadata": {
        "id": "L8SaelngoAqB"
      }
    },
    {
      "cell_type": "code",
      "source": [
        "# Convert 'started_at_date' and 'ended_at_date' columns to date format\n",
        "all_rides_df_clean <- all_rides_df_clean %>%\n",
        "  mutate(\n",
        "    started_at_date = as.Date(started_at_date),\n",
        "    ended_at_date = as.Date(ended_at_date)\n",
        "  )\n",
        "\n",
        "# Create a new 'season' column to label the seasons\n",
        "all_rides_df_clean <- all_rides_df_clean %>%\n",
        "  mutate(\n",
        "    season = case_when(\n",
        "      between(started_at_date, as.Date(\"2023-03-21\"), as.Date(\"2023-06-20\")) ~ \"Spring\",\n",
        "      between(started_at_date, as.Date(\"2023-06-21\"), as.Date(\"2023-09-22\")) ~ \"Summer\",\n",
        "      between(started_at_date, as.Date(\"2023-09-23\"), as.Date(\"2023-12-20\")) ~ \"Autumn\",\n",
        "      TRUE ~ \"Winter\"\n",
        "    )\n",
        "  )\n",
        "\n",
        "# Calculate the number of rides for each season\n",
        "rides_by_season <- all_rides_df_clean %>%\n",
        "  group_by(season) %>%\n",
        "  summarize(Count_of_ride_id = n(), .groups = 'drop')\n",
        "\n",
        "# Print the results for rides by season\n",
        "cat(\"Number of rides per season:\\n\")\n",
        "print(rides_by_season)\n",
        "\n",
        "\n",
        "# Calculate the number of rides for each season, segmented by 'member_casual' column\n",
        "rides_by_season_member_casual <- all_rides_df_clean %>%\n",
        "  group_by(season, member_casual) %>%\n",
        "  summarize(Count_of_ride_id = n(), .groups = 'drop')\n",
        "\n",
        "# Print the results for rides by season and user type\n",
        "cat(\"Number of rides per season and user type:\\n\")\n",
        "print(rides_by_season_member_casual)"
      ],
      "metadata": {
        "execution": {
          "iopub.status.busy": "2024-03-04T08:59:25.92425Z",
          "iopub.execute_input": "2024-03-04T08:59:25.925629Z",
          "iopub.status.idle": "2024-03-04T08:59:33.416998Z"
        },
        "trusted": true,
        "id": "ohuJT16-oAqB"
      },
      "execution_count": null,
      "outputs": []
    },
    {
      "cell_type": "code",
      "source": [
        "library(ggplot2)\n",
        "\n",
        "# Classification in order of seasons\n",
        "rides_by_season$season <- factor(rides_by_season$season,\n",
        "                                 levels = c(\"Winter\", \"Spring\", \"Summer\", \"Autumn\"))\n",
        "\n",
        "# Plotting the bar chart\n",
        "season_graph <- ggplot(rides_by_season, aes(x = season, y = Count_of_ride_id, fill = season)) +\n",
        "  geom_bar(stat = \"identity\") +\n",
        "  scale_fill_manual(values = c(\n",
        "    \"Winter\" = \"#7bd1fc\", \"Spring\" = \"#9fea74\", \"Summer\" = \"#fee37a\", \"Autumn\" = \"#aaa9f7\")) +\n",
        "  scale_y_continuous(\n",
        "    labels = scales::label_number(scale = 1e-3, suffix = \"K\")\n",
        "  ) +\n",
        "  labs(\n",
        "    title = \"Number of Bike Rides per Season\",\n",
        "    subtitle = \"The period from 2022-12-01 to 2023-11-30\",\n",
        "    x = \"\",\n",
        "    y = \"Number of Rides\"\n",
        "    # fill = \"Season\"\n",
        "  ) +\n",
        "  theme_minimal() +\n",
        "  theme(\n",
        "    plot.title = element_text(size = 15, face = \"bold\"),\n",
        "    plot.subtitle = element_text(size = 9),\n",
        "    legend.position = \"right\",\n",
        "    axis.text.x = element_text(angle = 0, hjust = 1),\n",
        "    legend.title = element_blank()\n",
        "  )\n",
        "\n",
        "# Display graph\n",
        "print(season_graph)"
      ],
      "metadata": {
        "execution": {
          "iopub.status.busy": "2024-03-04T09:01:15.884717Z",
          "iopub.execute_input": "2024-03-04T09:01:15.885948Z",
          "iopub.status.idle": "2024-03-04T09:01:16.166573Z"
        },
        "trusted": true,
        "id": "w9YoXuz-oAqB"
      },
      "execution_count": null,
      "outputs": []
    },
    {
      "cell_type": "markdown",
      "source": [
        "The bar chart shows the number of bike rides per season, indicating that summer is the most popular season for biking with a total of 2,192,634 rides. Spring follows with 1,547,735 rides, then autumn with 1,048,806 rides, and winter has the least with 689,078 rides. This suggests that warmer weather significantly increases the frequency of bike usage."
      ],
      "metadata": {
        "id": "oZVa2ltFoAqB"
      }
    },
    {
      "cell_type": "code",
      "source": [
        "# Calculate the total number of rides\n",
        "total_rides <- sum(rides_by_season$Count_of_ride_id)\n",
        "\n",
        "# Add a column for the percentage\n",
        "rides_by_season <- rides_by_season %>%\n",
        "  mutate(Percentage = (Count_of_ride_id / total_rides) * 100)\n",
        "\n",
        "# Create a pie chart\n",
        "season_pia <- ggplot(rides_by_season, aes(x = \"\", y = Percentage, fill = season)) +\n",
        "  geom_bar(stat = \"identity\", width = 1) +\n",
        "  coord_polar(\"y\", start = 0) +\n",
        "  scale_fill_manual(values = c(\n",
        "    \"Winter\" = \"#7bd1fc\", \"Spring\" = \"#9fea74\", \"Summer\" = \"#fee37a\", \"Autumn\" = \"#aaa9f7\")) +\n",
        "  theme_void() +\n",
        "  labs(\n",
        "    title = \"Percentage Distribution of Bike Rides Across Seasons\",\n",
        "    subtitle = \"The period from 2022-12-01 to 2023-11-30\"\n",
        "  ) +\n",
        "  geom_text(aes(label = sprintf(\"%s\\n%.2f%%\", season, Percentage)),\n",
        "            position = position_stack(vjust = 0.5)\n",
        "  ) +\n",
        "  # theme_minimal() +\n",
        "  theme(\n",
        "    plot.title = element_text(size = 15, face = \"bold\"),\n",
        "    plot.subtitle = element_text(size = 9),\n",
        "    legend.position = \"right\",\n",
        "    legend.title = element_blank()\n",
        "  )\n",
        "\n",
        "# Display graph\n",
        "print(season_pia)"
      ],
      "metadata": {
        "execution": {
          "iopub.status.busy": "2024-03-04T09:02:24.831343Z",
          "iopub.execute_input": "2024-03-04T09:02:24.833373Z",
          "iopub.status.idle": "2024-03-04T09:02:25.10551Z"
        },
        "trusted": true,
        "id": "22TuTEsYoAqC"
      },
      "execution_count": null,
      "outputs": []
    },
    {
      "cell_type": "markdown",
      "source": [
        "The pie chart clearly demonstrates that summer is the most popular season for cycling, with a total of 2,192,634 rides, accounting for 40.02% of the season's total rides. Following summer, spring is the next favored season with 1,547,735 rides, making up 28.25% of the rides. These figures indicate a strong seasonal trend in cycling habits, with riders significantly preferring the warmer months, which can be clearly seen in the calculation below.\n",
        "\n",
        "## Bike Ride Count and Percentage Distribution per Month for Member and Casual Riders"
      ],
      "metadata": {
        "id": "-mz8dIK0oAqC"
      }
    },
    {
      "cell_type": "code",
      "source": [
        "# Convert 'started_at' column to date format\n",
        "all_rides_df_clean$started_at <- as.Date(all_rides_df_clean$started_at)\n",
        "\n",
        "# Calculation of months from the 'started_at' column\n",
        "all_rides_df_clean$month <- format(all_rides_df_clean$started_at, \"%B\")\n",
        "\n",
        "# Calculate the number of rides per month for all users\n",
        "ride_counts_by_month_all <- all_rides_df_clean %>%\n",
        "  group_by(month) %>%\n",
        "  summarize(total_rides = n(), .groups = 'drop')\n",
        "\n",
        "# Calculate the number of rides per month for members\n",
        "ride_counts_by_month_member <- all_rides_df_clean %>%\n",
        "  filter(member_casual == \"member\") %>%\n",
        "  group_by(month) %>%\n",
        "  summarize(total_rides = n(), .groups = 'drop')\n",
        "\n",
        "# Calculate the number of rides per month for casual riders\n",
        "ride_counts_by_month_casual <- all_rides_df_clean %>%\n",
        "  filter(member_casual == \"casual\") %>%\n",
        "  group_by(month) %>%\n",
        "  summarize(total_rides = n(), .groups = 'drop')\n",
        "\n",
        "# Display the results\n",
        "cat(\"Ride Counts by Month for All Riders:\\n\")\n",
        "print(ride_counts_by_month_all)\n",
        "cat(\"Ride Counts by Month for Members:\\n\")\n",
        "print(ride_counts_by_month_member)\n",
        "cat(\"Ride Counts by Month for Casual Riders:\\n\")\n",
        "print(ride_counts_by_month_casual)"
      ],
      "metadata": {
        "execution": {
          "iopub.status.busy": "2024-03-04T09:09:18.00922Z",
          "iopub.execute_input": "2024-03-04T09:09:18.010508Z",
          "iopub.status.idle": "2024-03-04T09:09:25.58691Z"
        },
        "trusted": true,
        "id": "0CXDbeHnoAqC"
      },
      "execution_count": null,
      "outputs": []
    },
    {
      "cell_type": "code",
      "source": [
        "# Convert 'started_at' column to date format\n",
        "all_rides_df_clean$started_at <- as.Date(all_rides_df_clean$started_at)\n",
        "\n",
        "# Adding a month column with the month name\n",
        "all_rides_df_clean$month <- month.name[month(all_rides_df_clean$started_at)]\n",
        "\n",
        "# Create a summary data frame with counts for each month and member status\n",
        "monthly_rides <- all_rides_df_clean %>%\n",
        "  count(month, member_casual)\n",
        "\n",
        "# Use ggplot to create the stacked bar chart\n",
        "bike_rides_by_month <- ggplot(monthly_rides, aes(x = month, y = n, fill = member_casual)) +\n",
        "  geom_bar(stat = \"identity\", position = \"stack\") +\n",
        "  labs(title = \"Number of Bike Rides by Month for Member and Casual Riders\",\n",
        "       subtitle = \"The period from 2022-12-01 to 2023-11-30\",\n",
        "       x = \"Month\",\n",
        "       y = \"Number of Rides\",\n",
        "       fill = \"Biker Status\") +  # Correct place for legend title\n",
        "  scale_fill_manual(values = c(\"casual\" = \"#f28e2b\", \"member\" = \"#01b1c6\")) +\n",
        "  scale_y_continuous(\n",
        "    labels = scales::label_number(scale = 1e-3, suffix = \"K\"),\n",
        "    breaks = seq(0, 800000, by = 100000),\n",
        "    limits = c(0, 800000)\n",
        "  ) +\n",
        "  theme_minimal() +\n",
        "  theme(\n",
        "    plot.title = element_text(size = 15, face = \"bold\"),\n",
        "    plot.subtitle = element_text(size = 9),\n",
        "    legend.position = \"bottom\",\n",
        "    axis.text.x = element_text(angle = 90, vjust = 0.5, hjust=1, size = 8)\n",
        "  )\n",
        "\n",
        "# Display graph\n",
        "print(bike_rides_by_month)"
      ],
      "metadata": {
        "execution": {
          "iopub.status.busy": "2024-03-04T09:15:20.42885Z",
          "iopub.execute_input": "2024-03-04T09:15:20.430565Z",
          "iopub.status.idle": "2024-03-04T09:15:21.460764Z"
        },
        "trusted": true,
        "id": "Pf9GnZmNoAqC"
      },
      "execution_count": null,
      "outputs": []
    },
    {
      "cell_type": "markdown",
      "source": [
        "The bar chart confirms that August is the month with the highest number of bike rides, followed closely by July, and then June, indicating a peak in cycling activity during the summer months. Conversely, the winter months of December, January, and February have the fewest recorded rides, reflecting a seasonal decline in cycling frequency.\n",
        "\n",
        "## Number of Unique Starting and End Stations\n",
        "* Number of unique **starting** stations: **1542**"
      ],
      "metadata": {
        "id": "FD_UUkCYoAqC"
      }
    },
    {
      "cell_type": "code",
      "source": [
        "# Calculate the number of unique starting stations in the dataset\n",
        "num_start_stations <- length(unique(all_rides_df_clean$start_station_name))\n",
        "# Print the result for the number of unique starting stations\n",
        "cat(\"Number of unique starting stations:\", num_start_stations, \"\\n\")"
      ],
      "metadata": {
        "execution": {
          "iopub.status.busy": "2024-03-04T09:16:45.554565Z",
          "iopub.execute_input": "2024-03-04T09:16:45.558689Z",
          "iopub.status.idle": "2024-03-04T09:16:45.666192Z"
        },
        "trusted": true,
        "id": "inafwwoQoAqC"
      },
      "execution_count": null,
      "outputs": []
    },
    {
      "cell_type": "markdown",
      "source": [
        "## Most common used Start station by day of the week\n",
        "* The most common Start station: **Old Hastings Charging Stx**\n",
        "* The **total** number of all latitudes and longitudes for **'Old Hastings Charging Stx'** stations: **810968**\n",
        "* The **total** number of **unique** latitudes and longitudes for 'Old Hastings Charging Stx' stations: **731**"
      ],
      "metadata": {
        "id": "ueOJmRr9oAqC"
      }
    },
    {
      "cell_type": "code",
      "source": [
        "# Identifying the most commonly used starting station\n",
        "most_common_start_station <- names(sort(table(all_rides_df_clean$start_station_name),\n",
        "                                        decreasing = TRUE)[1])\n",
        "cat(\"Most common Start station:\", most_common_start_station, \"\\n\")\n",
        "\n",
        "# Filtering data for stations named \"Old Hastings Charging Stx\"\n",
        "old_hastings_stations_all <- all_rides_df_clean %>%\n",
        "  filter(start_station_name == \"Old Hastings Charging Stx\") %>%\n",
        "  select(start_lng, start_lat)\n",
        "\n",
        "# Selecting unique combinations of geographical latitudes\n",
        "# and longitudes for stations named \"Old Hastings Charging Stx\"\n",
        "old_hastings_stations_unique <- all_rides_df_clean %>%\n",
        "  filter(start_station_name == \"Old Hastings Charging Stx\") %>%\n",
        "  distinct(start_lng, start_lat)\n",
        "\n",
        "# Counting all occurrences of \"Old Hastings Charging Stx\" stations\n",
        "total_all_old_hastings_stations <- nrow(old_hastings_stations_all)\n",
        "\n",
        "# Counting all unique \"Old Hastings Charging Stx\" stations based on their latitudes and longitudes\n",
        "total_unique_old_hastings_stations <- nrow(old_hastings_stations_unique)\n",
        "\n",
        "# Displaying the total number of all and unique \"Old Hastings Charging Stx\" stations\n",
        "cat(\"Total number of all entries for 'Old Hastings Charging Stx' stations:\",\n",
        "    total_all_old_hastings_stations, \"\\n\")\n",
        "cat(\"Number of unique entries for 'Old Hastings Charging Stx' stations based on latitudes and longitudes:\",\n",
        "    total_unique_old_hastings_stations, \"\\n\")"
      ],
      "metadata": {
        "execution": {
          "iopub.status.busy": "2024-03-04T09:17:58.373794Z",
          "iopub.execute_input": "2024-03-04T09:17:58.375108Z",
          "iopub.status.idle": "2024-03-04T09:18:10.889863Z"
        },
        "trusted": true,
        "id": "GsyGKiPZoAqC"
      },
      "execution_count": null,
      "outputs": []
    },
    {
      "cell_type": "markdown",
      "source": [
        "## Top 20 Start Stations for Members, Casual Riders, and All Users"
      ],
      "metadata": {
        "id": "Cna1zMSGoAqD"
      }
    },
    {
      "cell_type": "code",
      "source": [
        "# Identify the top 20 most frequently used start stations for members\n",
        "top_stations_member <- all_rides_df_clean %>%\n",
        "  filter(member_casual == \"member\") %>%\n",
        "  group_by(start_station_name) %>%\n",
        "  summarise(count = n()) %>%\n",
        "  arrange(desc(count)) %>%\n",
        "  slice_head(n = 20)\n",
        "\n",
        "# Display the top 20 start stations for members\n",
        "cat(\"Top 20 Start Stations for Members:\\n\")\n",
        "print(top_stations_member)\n",
        "\n",
        "# Identify the top 20 most frequently used start stations for casual riders\n",
        "top_stations_casual <- all_rides_df_clean %>%\n",
        "  filter(member_casual == \"casual\") %>%\n",
        "  group_by(start_station_name) %>%\n",
        "  summarise(count = n()) %>%\n",
        "  arrange(desc(count)) %>%\n",
        "  slice_head(n = 20)\n",
        "\n",
        "# Display the top 20 start stations for casual riders\n",
        "cat(\"Top 20 Start Stations for Casual Riders:\\n\")\n",
        "print(top_stations_casual)\n",
        "\n",
        "# Identify the top 20 most frequently used start stations regardless of user type\n",
        "top_stations_all <- all_rides_df_clean %>%\n",
        "  group_by(start_station_name) %>%\n",
        "  summarise(count = n()) %>%\n",
        "  arrange(desc(count)) %>%\n",
        "  slice_head(n = 20)\n",
        "\n",
        "# Display the top 20 start stations overall\n",
        "cat(\"Top 20 Start Stations Overall:\\n\")\n",
        "print(top_stations_all)"
      ],
      "metadata": {
        "execution": {
          "iopub.status.busy": "2024-03-04T09:20:05.086249Z",
          "iopub.execute_input": "2024-03-04T09:20:05.087612Z",
          "iopub.status.idle": "2024-03-04T09:20:06.761618Z"
        },
        "trusted": true,
        "id": "9wmOWdWdoAqD"
      },
      "execution_count": null,
      "outputs": []
    },
    {
      "cell_type": "code",
      "source": [
        "# Calculate the top 20 starting stations for all users\n",
        "top_stations_all <- all_rides_df_clean %>%\n",
        "  group_by(start_station_name) %>%\n",
        "  summarise(count = n(),\n",
        "            latitude = first(start_lat),\n",
        "            longitude = first(start_lng)) %>%\n",
        "  ungroup() %>%\n",
        "  arrange(desc(count)) %>%\n",
        "  top_n(20, wt = count) %>%  # Select top 20 stations by count\n",
        "  mutate(full_latitude = latitude,  # Add new column for full latitude\n",
        "         full_longitude = longitude)  # Add new column for full longitude\n",
        "\n",
        "# Add a label for top 20 stations\n",
        "all_rides_df_clean <- all_rides_df_clean %>%\n",
        "  mutate(top20 = if_else(start_station_name %in% top_stations_all$start_station_name, 'Top 20', 'Others'))\n",
        "\n",
        "# Create a map with ggplot2\n",
        "top_20_start_stations <- ggplot(data = all_rides_df_clean) +\n",
        "  geom_point(aes(x = start_lng, y = start_lat, color = top20), size = 1) +\n",
        "  scale_color_manual(values = c(\"#76b7b2\", \"#ff0657\")) +\n",
        "  labs(title = \"Top 20 Starting Stations for All Users\",\n",
        "       subtitle = \"The period from 2022-12-01 to 2023-11-30\",\n",
        "       x = \"Longitude\", y = \"Latitude\") + # Add labels for longitude and latitude\n",
        "  coord_sf() +\n",
        "  theme_minimal() +\n",
        "  theme(\n",
        "    plot.title = element_text(size = 15, face = \"bold\"),\n",
        "    plot.subtitle = element_text(size = 9),\n",
        "    legend.position = \"right\"\n",
        "  )\n",
        "\n",
        "# Display map\n",
        "print(top_20_start_stations)"
      ],
      "metadata": {
        "execution": {
          "iopub.status.busy": "2024-03-04T11:51:12.650158Z",
          "iopub.execute_input": "2024-03-04T11:51:12.651666Z",
          "iopub.status.idle": "2024-03-04T11:53:40.815752Z"
        },
        "trusted": true,
        "id": "QU8ofoE-oAqD"
      },
      "execution_count": null,
      "outputs": []
    },
    {
      "cell_type": "markdown",
      "source": [
        "The map showcases the top 20 starting stations for bike rides, with Old Hastings Charging Stx standing out due to its exceptionally high number of rides, totaling 810,968. This station appears to be an outlier, as its usage significantly exceeds that of other stations. However, this may be due to the station's name being associated with multiple locations across the city. Therefore, while it appears prominently in the dataset, its data might be misleading and should be interpreted with caution when considering station popularity and usage patterns."
      ],
      "metadata": {
        "id": "_4W8KzbvoAqD"
      }
    },
    {
      "cell_type": "markdown",
      "source": [
        "## Most Popular Stations by Time of Day: Members, Casual Riders, and All Users"
      ],
      "metadata": {
        "id": "cZMZkEx5oAqD"
      }
    },
    {
      "cell_type": "code",
      "source": [
        "# Function to determine the part of the day\n",
        "part_of_day <- function(time) {\n",
        "  hour <- hour(as.POSIXct(time, format = \"%H:%M:%S\"))\n",
        "  if (hour >= 5 & hour < 12) {\n",
        "    return(\"Morning\")\n",
        "  } else if (hour >= 12 & hour < 17) {\n",
        "    return(\"Afternoon\")\n",
        "  } else if (hour >= 17 & hour < 21) {\n",
        "    return(\"Evening\")\n",
        "  } else {\n",
        "    return(\"Night\")\n",
        "  }\n",
        "}\n",
        "\n",
        "# Calculate the part of the day for each ride using sapply\n",
        "all_rides_df_clean <- all_rides_df_clean %>%\n",
        "  mutate(part_of_day = sapply(started_at_time, part_of_day))\n",
        "\n",
        "# Function for analysis by part of the day\n",
        "analyse_usage <- function(data, top_stations) {\n",
        "  data %>%\n",
        "    filter(start_station_name %in% top_stations) %>%\n",
        "    count(start_station_name, part_of_day) %>%\n",
        "    arrange(start_station_name, part_of_day)\n",
        "}\n",
        "\n",
        "# Identify the top 20 stations for all users\n",
        "top_stations_all <- all_rides_df_clean %>%\n",
        "  count(start_station_name) %>%\n",
        "  arrange(desc(n)) %>%\n",
        "  slice_head(n = 20) %>%\n",
        "  pull(start_station_name)\n",
        "\n",
        "# Identify the top 20 stations for members\n",
        "top_stations_member <- all_rides_df_clean %>%\n",
        "  filter(member_casual == \"member\") %>%\n",
        "  count(start_station_name) %>%\n",
        "  arrange(desc(n)) %>%\n",
        "  slice_head(n = 20) %>%\n",
        "  pull(start_station_name)\n",
        "\n",
        "# Identify the top 20 stations for casual riders\n",
        "top_stations_casual <- all_rides_df_clean %>%\n",
        "  filter(member_casual == \"casual\") %>%\n",
        "  count(start_station_name) %>%\n",
        "  arrange(desc(n)) %>%\n",
        "  slice_head(n = 20) %>%\n",
        "  pull(start_station_name)\n",
        "\n",
        "# Use the analyse_usage function for each user group\n",
        "hourly_usage_all <- analyse_usage(all_rides_df_clean, top_stations_all)\n",
        "hourly_usage_member <- analyse_usage(\n",
        "    all_rides_df_clean %>% filter(member_casual == \"member\"), top_stations_member)\n",
        "hourly_usage_casual <- analyse_usage(\n",
        "    all_rides_df_clean %>% filter(member_casual == \"casual\"), top_stations_casual)\n",
        "\n",
        "# Display and save the data\n",
        "cat(\"Usage by Part of the Day for Top 20 Stations for All Users:\\n\")\n",
        "print(hourly_usage_all)\n",
        "cat(\"Usage by Part of the Day for Top 20 Stations for Members:\\n\")\n",
        "print(hourly_usage_member)\n",
        "cat(\"Usage by Part of the Day for Top 20 Stations for Casual Riders:\\n\")\n",
        "print(hourly_usage_casual)"
      ],
      "metadata": {
        "execution": {
          "iopub.status.busy": "2024-03-04T09:21:38.593627Z",
          "iopub.execute_input": "2024-03-04T09:21:38.595045Z",
          "iopub.status.idle": "2024-03-04T09:27:18.50922Z"
        },
        "trusted": true,
        "id": "2y8f7AwYoAqD"
      },
      "execution_count": null,
      "outputs": []
    },
    {
      "cell_type": "markdown",
      "source": [
        "The calculation shows the most popular bike rental stations segmented by time of day and user type. It reveals that Old Hastings Charging Stx is the top station across all times of day for both casual riders and members, indicating its central role in the network. Notably, there's a trend showing that certain stations are favored during specific times, such as Streeter Dr & Grand Ave during both morning and night, suggesting these locations may be hubs of activity at the beginning and end of the day. This data can inform decisions on station maintenance, bike supply allocation, and targeted marketing strategies to balance demand throughout the day.\n",
        "\n",
        "## Summary Revision:\n",
        "**Members:**\n",
        "- Members' cycling peaks during commuting hours on weekdays, with a surge from 7 am to 9 am and another from 3 pm to 6 pm, aligning with work-related travel patterns. This trend is most pronounced during the warmer seasons of summer and early fall, as well as spring.\n",
        "- The data shows members have a higher frequency of rides but with shorter average durations, typically half that of casual riders' journeys.\n",
        "- Common starting and ending points for members are closely linked to universities, residential neighborhoods, and business districts, suggesting a correlation with daily routines and work or academic commitments.\n",
        "\n",
        "**Casual Riders:**\n",
        "- Casual riders demonstrate a preference for midday to early evening rides, peaking from 11 am to 7 pm, with weekends being particularly popular. This pattern is prevalent during leisure-friendly warmer months, such as summer and early fall.\n",
        "- Their rides are generally longer in duration, about twice as long as those of members, indicating a leisurely or exploratory approach to cycling.\n",
        "- Preferred locations for casual riders to pick up and drop off bikes include scenic parks, tourist hotspots, museums, waterfront areas, and other places of leisure, underscoring their recreational use of the bike-share system.\n",
        "\n",
        "# <font color=\"#adbac0\"><strong>ACT</strong></font>\n",
        "## Revised Recommendations\n",
        "Based on data insights, here are refined strategies for Cyclistic to convert casual riders into annual members:\n",
        "\n",
        "### Understanding User Dynamics:\n",
        "1. **Usage Pattern Analysis**:\n",
        "   - Investigate the duration, frequency, and timing of bike usage by casual riders compared to members, focusing on peak usage times for targeted promotions.\n",
        "2. **Membership Value Proposition**:\n",
        "   - Research what drives casual riders to rent bikes and craft a compelling value proposition for the annual membership that addresses their specific needs and motivations.\n",
        "3. **Digital Engagement**:\n",
        "   - Analyze the digital touchpoints where casual riders interact with Cyclistic and develop a digital engagement strategy to nurture their journey towards membership.\n",
        "\n",
        "### Tactical Steps for Membership Growth:\n",
        "1. **Tailored Promotions**:\n",
        "   - Launch special weekday pricing and loyalty rewards aimed at casual riders to incentivize regular usage and familiarity with the service.\n",
        "2. **Subscription Flexibility**:\n",
        "   - Offer a range of subscription plans including weekly or monthly passes to serve as stepping stones to full annual membership.\n",
        "3. **Focused Marketing Efforts**:\n",
        "   - Target marketing efforts in areas with high casual rider traffic and on platforms popular with tourists, emphasizing the benefits of membership over single-use passes.\n",
        "\n",
        "### Engagement and Pricing Strategies:\n",
        "1. **Incentive-Based Pricing**:\n",
        "   - Introduce a tiered pricing model that encourages longer-term commitments, with clear cost benefits over casual usage.\n",
        "2. **Membership Perks**:\n",
        "   - Provide exclusive benefits for members, such as priority bike access during high demand periods or flexible pass options for varying rider needs.\n",
        "3. **Smart Ad Placement**:\n",
        "   - Deploy targeted ads in high-traffic locations and during peak seasonal periods to maximize exposure to potential members.\n",
        "4. **Cost-Savings Messaging**:\n",
        "   - Highlight the long-term savings and convenience of an annual membership, particularly in comparison to the cumulative cost of multiple casual rentals.\n",
        "\n",
        "### Strategic Analysis and Market Adaptation:\n",
        "- **Early Data Utilization**:\n",
        "  - Prioritize the analysis of emerging trends and the exploration of new data analysis tools to capture nuanced user behaviors.\n",
        "- **Data-Driven Model Adaptation**:\n",
        "  - Collect more granular data to understand the preferences of local, occasional riders and adapt the membership model accordingly.\n",
        "- **Membership Model Innovation**:\n",
        "  - Re-evaluate the membership offerings to align with the lifestyle and cycling patterns of Chicago's occasional riders, ensuring the model remains competitive and appealing.\n",
        "  \n",
        "> *Thank you for taking the time to review my project.<br>\n",
        "> I sincerely appreciate your attention and am eagerly looking forward to your feedback, critiques, or suggestions.*"
      ],
      "metadata": {
        "id": "UzcBJZNWoAqD"
      }
    }
  ]
}